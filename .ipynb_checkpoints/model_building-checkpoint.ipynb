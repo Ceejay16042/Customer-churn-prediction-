{
 "cells": [
  {
   "cell_type": "code",
   "execution_count": 1,
   "id": "bf707ab1",
   "metadata": {},
   "outputs": [],
   "source": [
    "import statsmodels.api as sm\n",
    "import pandas as pd\n",
    "import numpy as np\n",
    "import matplotlib.pyplot as plt\n",
    "import seaborn as sns\n",
    "from sklearn import preprocessing\n",
    "from sklearn.model_selection import train_test_split\n",
    "from sklearn.linear_model import LinearRegression\n",
    "from sklearn.tree import DecisionTreeClassifier\n",
    "from sklearn.ensemble import RandomForestClassifier\n",
    "from sklearn.metrics import accuracy_score\n",
    "from sklearn.metrics import f1_score\n",
    "from sklearn.metrics import jaccard_score\n",
    "from sklearn.metrics import confusion_matrix\n",
    "from sklearn.model_selection import GridSearchCV\n",
    "from sklearn.metrics import classification_report\n",
    "from sklearn.multiclass import OneVsRestClassifier\n",
    "from imblearn.combine import SMOTEENN"
   ]
  },
  {
   "cell_type": "code",
   "execution_count": 3,
   "id": "88f6dccb",
   "metadata": {},
   "outputs": [],
   "source": [
    "cleaned_telecom_data = pd.read_csv('cleaned_teleco_data.csv')"
   ]
  },
  {
   "cell_type": "code",
   "execution_count": 4,
   "id": "763567d0",
   "metadata": {},
   "outputs": [
    {
     "data": {
      "text/plain": [
       "Index(['Unnamed: 0', 'customerID', 'gender', 'SeniorCitizen', 'Partner',\n",
       "       'Dependents', 'tenure', 'PhoneService', 'MultipleLines',\n",
       "       'InternetService', 'OnlineSecurity', 'OnlineBackup', 'DeviceProtection',\n",
       "       'TechSupport', 'StreamingTV', 'StreamingMovies', 'Contract',\n",
       "       'PaperlessBilling', 'PaymentMethod', 'MonthlyCharges', 'TotalCharges',\n",
       "       'Churn', 'tenure_group'],\n",
       "      dtype='object')"
      ]
     },
     "execution_count": 4,
     "metadata": {},
     "output_type": "execute_result"
    }
   ],
   "source": [
    "cleaned_telecom_data.columns"
   ]
  },
  {
   "cell_type": "code",
   "execution_count": 5,
   "id": "bcc35e34",
   "metadata": {},
   "outputs": [],
   "source": [
    "clonee = cleaned_telecom_data.copy()"
   ]
  },
  {
   "cell_type": "code",
   "execution_count": 6,
   "id": "0cc41278",
   "metadata": {},
   "outputs": [],
   "source": [
    "#one hot encoding\n",
    "clonee[['Month-to-month', 'One year', 'Two year']] = pd.get_dummies(clonee['Contract'])\n",
    "clonee[['SrCitizen_no', 'SrCitizen_yes']] = pd.get_dummies(clonee['SeniorCitizen'])\n",
    "clonee[['PhoneService_no', 'PhoneService_yes']] = pd.get_dummies(clonee['PhoneService'])\n",
    "clonee[['DSL', 'Fiber optic', 'No']] = pd.get_dummies(clonee['InternetService'])\n",
    "clonee[['OnlineSecurity_no', 'OnlineSecurity_yes', 'Nis']] = pd.get_dummies(clonee['OnlineSecurity'])\n",
    "clonee[['OnlineBackup_no', 'OnlineBackup_yes', 'Nis_backup']] = pd.get_dummies(clonee['OnlineBackup'])\n",
    "clonee[['DeviceProtection_no', 'DeviceProtection_yes', 'Nis_DeviceP']] = pd.get_dummies(clonee['DeviceProtection'])\n",
    "clonee[['TechSupport_no', 'TechSupport_yes', 'Nis_TechS']] = pd.get_dummies(clonee['TechSupport'])\n",
    "clonee[['matBank transfer (autoic)', 'Credit card (automatic)', 'Electronic check', 'Mailed check']] = pd.get_dummies(clonee['PaymentMethod'])\n",
    "# clonee[['MonthlyCharges']] = pd.get_dummies(clonee['MonthlyCharges'])"
   ]
  },
  {
   "cell_type": "code",
   "execution_count": 7,
   "id": "da9ced67",
   "metadata": {},
   "outputs": [],
   "source": [
    "#code to convert the dependent variable(y) into a binary classification\n",
    "le = preprocessing.LabelEncoder()\n",
    "le.fit(clonee['Churn'])\n",
    "clonee['Churnn'] = le.transform(clonee['Churn'])"
   ]
  },
  {
   "cell_type": "code",
   "execution_count": 8,
   "id": "5d822a67",
   "metadata": {},
   "outputs": [
    {
     "data": {
      "text/html": [
       "<div>\n",
       "<style scoped>\n",
       "    .dataframe tbody tr th:only-of-type {\n",
       "        vertical-align: middle;\n",
       "    }\n",
       "\n",
       "    .dataframe tbody tr th {\n",
       "        vertical-align: top;\n",
       "    }\n",
       "\n",
       "    .dataframe thead th {\n",
       "        text-align: right;\n",
       "    }\n",
       "</style>\n",
       "<table border=\"1\" class=\"dataframe\">\n",
       "  <thead>\n",
       "    <tr style=\"text-align: right;\">\n",
       "      <th></th>\n",
       "      <th>Churnn</th>\n",
       "      <th>Churn</th>\n",
       "    </tr>\n",
       "  </thead>\n",
       "  <tbody>\n",
       "    <tr>\n",
       "      <th>0</th>\n",
       "      <td>0</td>\n",
       "      <td>No</td>\n",
       "    </tr>\n",
       "    <tr>\n",
       "      <th>1</th>\n",
       "      <td>0</td>\n",
       "      <td>No</td>\n",
       "    </tr>\n",
       "    <tr>\n",
       "      <th>2</th>\n",
       "      <td>1</td>\n",
       "      <td>Yes</td>\n",
       "    </tr>\n",
       "    <tr>\n",
       "      <th>3</th>\n",
       "      <td>0</td>\n",
       "      <td>No</td>\n",
       "    </tr>\n",
       "    <tr>\n",
       "      <th>4</th>\n",
       "      <td>1</td>\n",
       "      <td>Yes</td>\n",
       "    </tr>\n",
       "    <tr>\n",
       "      <th>...</th>\n",
       "      <td>...</td>\n",
       "      <td>...</td>\n",
       "    </tr>\n",
       "    <tr>\n",
       "      <th>7027</th>\n",
       "      <td>0</td>\n",
       "      <td>No</td>\n",
       "    </tr>\n",
       "    <tr>\n",
       "      <th>7028</th>\n",
       "      <td>0</td>\n",
       "      <td>No</td>\n",
       "    </tr>\n",
       "    <tr>\n",
       "      <th>7029</th>\n",
       "      <td>0</td>\n",
       "      <td>No</td>\n",
       "    </tr>\n",
       "    <tr>\n",
       "      <th>7030</th>\n",
       "      <td>1</td>\n",
       "      <td>Yes</td>\n",
       "    </tr>\n",
       "    <tr>\n",
       "      <th>7031</th>\n",
       "      <td>0</td>\n",
       "      <td>No</td>\n",
       "    </tr>\n",
       "  </tbody>\n",
       "</table>\n",
       "<p>7032 rows × 2 columns</p>\n",
       "</div>"
      ],
      "text/plain": [
       "      Churnn Churn\n",
       "0          0    No\n",
       "1          0    No\n",
       "2          1   Yes\n",
       "3          0    No\n",
       "4          1   Yes\n",
       "...      ...   ...\n",
       "7027       0    No\n",
       "7028       0    No\n",
       "7029       0    No\n",
       "7030       1   Yes\n",
       "7031       0    No\n",
       "\n",
       "[7032 rows x 2 columns]"
      ]
     },
     "execution_count": 8,
     "metadata": {},
     "output_type": "execute_result"
    }
   ],
   "source": [
    "clonee[['Churnn', 'Churn']]"
   ]
  },
  {
   "cell_type": "code",
   "execution_count": 9,
   "id": "ce0e91e4",
   "metadata": {},
   "outputs": [
    {
     "data": {
      "text/html": [
       "<table class=\"simpletable\">\n",
       "<caption>OLS Regression Results</caption>\n",
       "<tr>\n",
       "  <th>Dep. Variable:</th>         <td>Churnn</td>      <th>  R-squared:         </th> <td>   0.250</td>\n",
       "</tr>\n",
       "<tr>\n",
       "  <th>Model:</th>                   <td>OLS</td>       <th>  Adj. R-squared:    </th> <td>   0.249</td>\n",
       "</tr>\n",
       "<tr>\n",
       "  <th>Method:</th>             <td>Least Squares</td>  <th>  F-statistic:       </th> <td>   194.9</td>\n",
       "</tr>\n",
       "<tr>\n",
       "  <th>Date:</th>             <td>Sat, 18 Mar 2023</td> <th>  Prob (F-statistic):</th>  <td>  0.00</td> \n",
       "</tr>\n",
       "<tr>\n",
       "  <th>Time:</th>                 <td>21:38:44</td>     <th>  Log-Likelihood:    </th> <td> -3221.5</td>\n",
       "</tr>\n",
       "<tr>\n",
       "  <th>No. Observations:</th>      <td>  7032</td>      <th>  AIC:               </th> <td>   6469.</td>\n",
       "</tr>\n",
       "<tr>\n",
       "  <th>Df Residuals:</th>          <td>  7019</td>      <th>  BIC:               </th> <td>   6558.</td>\n",
       "</tr>\n",
       "<tr>\n",
       "  <th>Df Model:</th>              <td>    12</td>      <th>                     </th>     <td> </td>   \n",
       "</tr>\n",
       "<tr>\n",
       "  <th>Covariance Type:</th>      <td>nonrobust</td>    <th>                     </th>     <td> </td>   \n",
       "</tr>\n",
       "</table>\n",
       "<table class=\"simpletable\">\n",
       "<tr>\n",
       "              <td></td>                 <th>coef</th>     <th>std err</th>      <th>t</th>      <th>P>|t|</th>  <th>[0.025</th>    <th>0.975]</th>  \n",
       "</tr>\n",
       "<tr>\n",
       "  <th>intercept</th>                 <td>    0.0370</td> <td>    0.005</td> <td>    7.996</td> <td> 0.000</td> <td>    0.028</td> <td>    0.046</td>\n",
       "</tr>\n",
       "<tr>\n",
       "  <th>Month-to-month</th>            <td>    0.1449</td> <td>    0.008</td> <td>   17.823</td> <td> 0.000</td> <td>    0.129</td> <td>    0.161</td>\n",
       "</tr>\n",
       "<tr>\n",
       "  <th>One year</th>                  <td>   -0.0476</td> <td>    0.008</td> <td>   -6.056</td> <td> 0.000</td> <td>   -0.063</td> <td>   -0.032</td>\n",
       "</tr>\n",
       "<tr>\n",
       "  <th>Two year</th>                  <td>   -0.0603</td> <td>    0.008</td> <td>   -7.409</td> <td> 0.000</td> <td>   -0.076</td> <td>   -0.044</td>\n",
       "</tr>\n",
       "<tr>\n",
       "  <th>SrCitizen_no</th>              <td>   -0.0014</td> <td>    0.006</td> <td>   -0.241</td> <td> 0.810</td> <td>   -0.013</td> <td>    0.010</td>\n",
       "</tr>\n",
       "<tr>\n",
       "  <th>SrCitizen_yes</th>             <td>    0.0384</td> <td>    0.008</td> <td>    4.970</td> <td> 0.000</td> <td>    0.023</td> <td>    0.054</td>\n",
       "</tr>\n",
       "<tr>\n",
       "  <th>matBank transfer (autoic)</th> <td>   -0.0221</td> <td>    0.008</td> <td>   -2.606</td> <td> 0.009</td> <td>   -0.039</td> <td>   -0.005</td>\n",
       "</tr>\n",
       "<tr>\n",
       "  <th>Credit card (automatic)</th>   <td>   -0.0239</td> <td>    0.009</td> <td>   -2.791</td> <td> 0.005</td> <td>   -0.041</td> <td>   -0.007</td>\n",
       "</tr>\n",
       "<tr>\n",
       "  <th>Electronic check</th>          <td>    0.0808</td> <td>    0.008</td> <td>    9.734</td> <td> 0.000</td> <td>    0.065</td> <td>    0.097</td>\n",
       "</tr>\n",
       "<tr>\n",
       "  <th>Mailed check</th>              <td>    0.0022</td> <td>    0.009</td> <td>    0.240</td> <td> 0.810</td> <td>   -0.016</td> <td>    0.020</td>\n",
       "</tr>\n",
       "<tr>\n",
       "  <th>DSL</th>                       <td>   -0.0490</td> <td>    0.006</td> <td>   -7.712</td> <td> 0.000</td> <td>   -0.061</td> <td>   -0.037</td>\n",
       "</tr>\n",
       "<tr>\n",
       "  <th>Fiber optic</th>               <td>    0.0794</td> <td>    0.007</td> <td>   11.689</td> <td> 0.000</td> <td>    0.066</td> <td>    0.093</td>\n",
       "</tr>\n",
       "<tr>\n",
       "  <th>OnlineSecurity_no</th>         <td>    0.0966</td> <td>    0.012</td> <td>    8.149</td> <td> 0.000</td> <td>    0.073</td> <td>    0.120</td>\n",
       "</tr>\n",
       "<tr>\n",
       "  <th>OnlineSecurity_yes</th>        <td>    0.0066</td> <td>    0.003</td> <td>    2.034</td> <td> 0.042</td> <td>    0.000</td> <td>    0.013</td>\n",
       "</tr>\n",
       "<tr>\n",
       "  <th>OnlineBackup_no</th>           <td>    0.0712</td> <td>    0.011</td> <td>    6.489</td> <td> 0.000</td> <td>    0.050</td> <td>    0.093</td>\n",
       "</tr>\n",
       "<tr>\n",
       "  <th>OnlineBackup_yes</th>          <td>    0.0066</td> <td>    0.003</td> <td>    2.034</td> <td> 0.042</td> <td>    0.000</td> <td>    0.013</td>\n",
       "</tr>\n",
       "<tr>\n",
       "  <th>DeviceProtection_no</th>       <td>    0.0290</td> <td>    0.011</td> <td>    2.574</td> <td> 0.010</td> <td>    0.007</td> <td>    0.051</td>\n",
       "</tr>\n",
       "<tr>\n",
       "  <th>DeviceProtection_yes</th>      <td>    0.0066</td> <td>    0.003</td> <td>    2.034</td> <td> 0.042</td> <td>    0.000</td> <td>    0.013</td>\n",
       "</tr>\n",
       "<tr>\n",
       "  <th>TechSupport_no</th>            <td>    0.0702</td> <td>    0.012</td> <td>    5.785</td> <td> 0.000</td> <td>    0.046</td> <td>    0.094</td>\n",
       "</tr>\n",
       "<tr>\n",
       "  <th>TechSupport_yes</th>           <td>    0.0066</td> <td>    0.003</td> <td>    2.034</td> <td> 0.042</td> <td>    0.000</td> <td>    0.013</td>\n",
       "</tr>\n",
       "</table>\n",
       "<table class=\"simpletable\">\n",
       "<tr>\n",
       "  <th>Omnibus:</th>       <td>478.598</td> <th>  Durbin-Watson:     </th> <td>   2.017</td>\n",
       "</tr>\n",
       "<tr>\n",
       "  <th>Prob(Omnibus):</th> <td> 0.000</td>  <th>  Jarque-Bera (JB):  </th> <td> 431.525</td>\n",
       "</tr>\n",
       "<tr>\n",
       "  <th>Skew:</th>          <td> 0.541</td>  <th>  Prob(JB):          </th> <td>1.98e-94</td>\n",
       "</tr>\n",
       "<tr>\n",
       "  <th>Kurtosis:</th>      <td> 2.449</td>  <th>  Cond. No.          </th> <td>3.38e+31</td>\n",
       "</tr>\n",
       "</table><br/><br/>Notes:<br/>[1] Standard Errors assume that the covariance matrix of the errors is correctly specified.<br/>[2] The smallest eigenvalue is 2.42e-59. This might indicate that there are<br/>strong multicollinearity problems or that the design matrix is singular."
      ],
      "text/plain": [
       "<class 'statsmodels.iolib.summary.Summary'>\n",
       "\"\"\"\n",
       "                            OLS Regression Results                            \n",
       "==============================================================================\n",
       "Dep. Variable:                 Churnn   R-squared:                       0.250\n",
       "Model:                            OLS   Adj. R-squared:                  0.249\n",
       "Method:                 Least Squares   F-statistic:                     194.9\n",
       "Date:                Sat, 18 Mar 2023   Prob (F-statistic):               0.00\n",
       "Time:                        21:38:44   Log-Likelihood:                -3221.5\n",
       "No. Observations:                7032   AIC:                             6469.\n",
       "Df Residuals:                    7019   BIC:                             6558.\n",
       "Df Model:                          12                                         \n",
       "Covariance Type:            nonrobust                                         \n",
       "=============================================================================================\n",
       "                                coef    std err          t      P>|t|      [0.025      0.975]\n",
       "---------------------------------------------------------------------------------------------\n",
       "intercept                     0.0370      0.005      7.996      0.000       0.028       0.046\n",
       "Month-to-month                0.1449      0.008     17.823      0.000       0.129       0.161\n",
       "One year                     -0.0476      0.008     -6.056      0.000      -0.063      -0.032\n",
       "Two year                     -0.0603      0.008     -7.409      0.000      -0.076      -0.044\n",
       "SrCitizen_no                 -0.0014      0.006     -0.241      0.810      -0.013       0.010\n",
       "SrCitizen_yes                 0.0384      0.008      4.970      0.000       0.023       0.054\n",
       "matBank transfer (autoic)    -0.0221      0.008     -2.606      0.009      -0.039      -0.005\n",
       "Credit card (automatic)      -0.0239      0.009     -2.791      0.005      -0.041      -0.007\n",
       "Electronic check              0.0808      0.008      9.734      0.000       0.065       0.097\n",
       "Mailed check                  0.0022      0.009      0.240      0.810      -0.016       0.020\n",
       "DSL                          -0.0490      0.006     -7.712      0.000      -0.061      -0.037\n",
       "Fiber optic                   0.0794      0.007     11.689      0.000       0.066       0.093\n",
       "OnlineSecurity_no             0.0966      0.012      8.149      0.000       0.073       0.120\n",
       "OnlineSecurity_yes            0.0066      0.003      2.034      0.042       0.000       0.013\n",
       "OnlineBackup_no               0.0712      0.011      6.489      0.000       0.050       0.093\n",
       "OnlineBackup_yes              0.0066      0.003      2.034      0.042       0.000       0.013\n",
       "DeviceProtection_no           0.0290      0.011      2.574      0.010       0.007       0.051\n",
       "DeviceProtection_yes          0.0066      0.003      2.034      0.042       0.000       0.013\n",
       "TechSupport_no                0.0702      0.012      5.785      0.000       0.046       0.094\n",
       "TechSupport_yes               0.0066      0.003      2.034      0.042       0.000       0.013\n",
       "==============================================================================\n",
       "Omnibus:                      478.598   Durbin-Watson:                   2.017\n",
       "Prob(Omnibus):                  0.000   Jarque-Bera (JB):              431.525\n",
       "Skew:                           0.541   Prob(JB):                     1.98e-94\n",
       "Kurtosis:                       2.449   Cond. No.                     3.38e+31\n",
       "==============================================================================\n",
       "\n",
       "Notes:\n",
       "[1] Standard Errors assume that the covariance matrix of the errors is correctly specified.\n",
       "[2] The smallest eigenvalue is 2.42e-59. This might indicate that there are\n",
       "strong multicollinearity problems or that the design matrix is singular.\n",
       "\"\"\""
      ]
     },
     "execution_count": 9,
     "metadata": {},
     "output_type": "execute_result"
    }
   ],
   "source": [
    "''''getting the statistical information to know the features\n",
    "having a greater level of significance in the prediction of the target variable(y)'''\n",
    "clonee['intercept'] = 1\n",
    "logistic_model = sm.OLS(clonee['Churnn'], clonee[['intercept', 'Month-to-month', 'One year', 'Two year',\n",
    "                                                         'SrCitizen_no', 'SrCitizen_yes',\n",
    "                                                          'matBank transfer (autoic)', 'Credit card (automatic)', 'Electronic check', 'Mailed check',\n",
    "                                                          'DSL', 'Fiber optic',\n",
    "                                                           'OnlineSecurity_no', 'OnlineSecurity_yes',\n",
    "                                                            'OnlineBackup_no', 'OnlineBackup_yes',\n",
    "                                                            'DeviceProtection_no', 'DeviceProtection_yes',\n",
    "                                                            'TechSupport_no', 'TechSupport_yes'            \n",
    "                                      ]])\n",
    "results = logistic_model.fit()\n",
    "results.summary()\n",
    "# pd.set_option('display.max_columns', None)\n",
    "# clonee.head()"
   ]
  },
  {
   "cell_type": "code",
   "execution_count": 10,
   "id": "5aed47f6",
   "metadata": {},
   "outputs": [
    {
     "data": {
      "text/plain": [
       "Month-to-month               0.144932\n",
       "OnlineSecurity_no            0.096646\n",
       "Electronic check             0.080808\n",
       "Fiber optic                  0.079388\n",
       "OnlineBackup_no              0.071242\n",
       "TechSupport_no               0.070245\n",
       "SrCitizen_yes                0.038430\n",
       "intercept                    0.037005\n",
       "DeviceProtection_no          0.029030\n",
       "OnlineSecurity_yes           0.006602\n",
       "OnlineBackup_yes             0.006602\n",
       "DeviceProtection_yes         0.006602\n",
       "TechSupport_yes              0.006602\n",
       "Mailed check                 0.002178\n",
       "SrCitizen_no                -0.001425\n",
       "matBank transfer (autoic)   -0.022102\n",
       "Credit card (automatic)     -0.023879\n",
       "One year                    -0.047637\n",
       "DSL                         -0.048985\n",
       "Two year                    -0.060289\n",
       "dtype: float64"
      ]
     },
     "execution_count": 10,
     "metadata": {},
     "output_type": "execute_result"
    }
   ],
   "source": [
    "results.params.sort_values(ascending=False)"
   ]
  },
  {
   "cell_type": "code",
   "execution_count": 11,
   "id": "0c6df447",
   "metadata": {},
   "outputs": [],
   "source": [
    "X = clonee[['intercept', 'Month-to-month', 'One year', 'Two year',\n",
    "                                                         'SrCitizen_no', 'SrCitizen_yes',\n",
    "                                                          'matBank transfer (autoic)', 'Credit card (automatic)', 'Electronic check', 'Mailed check',\n",
    "                                                          'DSL', 'Fiber optic',\n",
    "                                                           'OnlineSecurity_no', 'OnlineSecurity_yes',\n",
    "                                                            'OnlineBackup_no', 'OnlineBackup_yes',\n",
    "                                                            'DeviceProtection_no', 'DeviceProtection_yes',\n",
    "                                                            'TechSupport_no', 'TechSupport_yes'            \n",
    "                                      ]]"
   ]
  },
  {
   "cell_type": "code",
   "execution_count": 12,
   "id": "255b064d",
   "metadata": {},
   "outputs": [],
   "source": [
    "y = clonee['Churnn']"
   ]
  },
  {
   "cell_type": "code",
   "execution_count": 13,
   "id": "5cc42de8",
   "metadata": {},
   "outputs": [
    {
     "data": {
      "text/plain": [
       "array([[ 0.        ,  0.9026127 , -0.51453688, ..., -0.52513044,\n",
       "         1.01259351, -0.52513044],\n",
       "       [ 0.        , -1.1078949 ,  1.94349528, ..., -0.52513044,\n",
       "         1.01259351, -0.52513044],\n",
       "       [ 0.        ,  0.9026127 , -0.51453688, ..., -0.52513044,\n",
       "         1.01259351, -0.52513044],\n",
       "       ...,\n",
       "       [ 0.        ,  0.9026127 , -0.51453688, ..., -0.52513044,\n",
       "         1.01259351, -0.52513044],\n",
       "       [ 0.        ,  0.9026127 , -0.51453688, ..., -0.52513044,\n",
       "         1.01259351, -0.52513044],\n",
       "       [ 0.        , -1.1078949 , -0.51453688, ..., -0.52513044,\n",
       "        -0.98756311, -0.52513044]])"
      ]
     },
     "execution_count": 13,
     "metadata": {},
     "output_type": "execute_result"
    }
   ],
   "source": [
    "#Data norminalization\n",
    "data = preprocessing.StandardScaler().fit(X).transform(X)\n",
    "data"
   ]
  },
  {
   "cell_type": "code",
   "execution_count": 14,
   "id": "8302d814",
   "metadata": {},
   "outputs": [],
   "source": [
    "#dividing the data into the training and test datasets\n",
    "X_train, X_test, y_train, y_test = train_test_split(X, y, test_size=0.3, random_state=42)"
   ]
  },
  {
   "cell_type": "code",
   "execution_count": 15,
   "id": "0199cf78",
   "metadata": {},
   "outputs": [],
   "source": [
    "#a dictionary containing the two classification techniques to be compared\n",
    "models = {'Decision-Tree-Classifier': DecisionTreeClassifier(),\n",
    "      'Random-Forest-Classifier':RandomForestClassifier()}\n",
    "\n",
    "#code to get the best classifier\n",
    "def fit_and_score(model,X_train,X_test,y_train,y_test):\n",
    "    '''\n",
    "    To determine the accuracy between the 2 classifier models\n",
    "    \n",
    "    \n",
    "    '''\n",
    "    model_score={}\n",
    "    np.random.seed(42)\n",
    "    for name,estimators in model.items():\n",
    "        \n",
    "        OneVsRestClassifier(estimators.fit(X_train,np.ravel(y_train)))\n",
    "        model_score[name]=OneVsRestClassifier(estimators.score(X_test,np.ravel(y_test)))\n",
    "    return model_score"
   ]
  },
  {
   "cell_type": "code",
   "execution_count": 16,
   "id": "ec7b72c4",
   "metadata": {},
   "outputs": [
    {
     "data": {
      "text/plain": [
       "{'Decision-Tree-Classifier': OneVsRestClassifier(estimator=0.7644549763033175),\n",
       " 'Random-Forest-Classifier': OneVsRestClassifier(estimator=0.7639810426540284)}"
      ]
     },
     "execution_count": 16,
     "metadata": {},
     "output_type": "execute_result"
    }
   ],
   "source": [
    "fit_and_score(models,X_train,X_test,y_train,y_test)"
   ]
  },
  {
   "cell_type": "markdown",
   "id": "a8518ebb",
   "metadata": {},
   "source": [
    ">Note: From the results above, it can be deduced that the Random Forest classifier gives a higher model score of 0.773(77.3%)"
   ]
  },
  {
   "cell_type": "code",
   "execution_count": 17,
   "id": "15dddca4",
   "metadata": {},
   "outputs": [],
   "source": [
    "#using the Grid search Cross validation function to get the best parameters for the random Forest Classifier\n",
    "parameters = {'n_estimators': range(0, 20, 5), 'criterion': ['gini', 'entropy'], 'min_samples_leaf': range(0, 10, 2)}"
   ]
  },
  {
   "cell_type": "code",
   "execution_count": 18,
   "id": "921e984f",
   "metadata": {},
   "outputs": [
    {
     "name": "stderr",
     "output_type": "stream",
     "text": [
      "C:\\Users\\clinton\\anaconda3\\lib\\site-packages\\sklearn\\model_selection\\_validation.py:372: FitFailedWarning: \n",
      "80 fits failed out of a total of 200.\n",
      "The score on these train-test partitions for these parameters will be set to nan.\n",
      "If these failures are not expected, you can try to debug them by setting error_score='raise'.\n",
      "\n",
      "Below are more details about the failures:\n",
      "--------------------------------------------------------------------------------\n",
      "50 fits failed with the following error:\n",
      "Traceback (most recent call last):\n",
      "  File \"C:\\Users\\clinton\\anaconda3\\lib\\site-packages\\sklearn\\model_selection\\_validation.py\", line 680, in _fit_and_score\n",
      "    estimator.fit(X_train, y_train, **fit_params)\n",
      "  File \"C:\\Users\\clinton\\anaconda3\\lib\\site-packages\\sklearn\\ensemble\\_forest.py\", line 392, in fit\n",
      "    self._validate_estimator()\n",
      "  File \"C:\\Users\\clinton\\anaconda3\\lib\\site-packages\\sklearn\\ensemble\\_base.py\", line 138, in _validate_estimator\n",
      "    raise ValueError(\n",
      "ValueError: n_estimators must be greater than zero, got 0.\n",
      "\n",
      "--------------------------------------------------------------------------------\n",
      "30 fits failed with the following error:\n",
      "Traceback (most recent call last):\n",
      "  File \"C:\\Users\\clinton\\anaconda3\\lib\\site-packages\\sklearn\\model_selection\\_validation.py\", line 680, in _fit_and_score\n",
      "    estimator.fit(X_train, y_train, **fit_params)\n",
      "  File \"C:\\Users\\clinton\\anaconda3\\lib\\site-packages\\sklearn\\ensemble\\_forest.py\", line 450, in fit\n",
      "    trees = Parallel(\n",
      "  File \"C:\\Users\\clinton\\anaconda3\\lib\\site-packages\\joblib\\parallel.py\", line 1085, in __call__\n",
      "    if self.dispatch_one_batch(iterator):\n",
      "  File \"C:\\Users\\clinton\\anaconda3\\lib\\site-packages\\joblib\\parallel.py\", line 901, in dispatch_one_batch\n",
      "    self._dispatch(tasks)\n",
      "  File \"C:\\Users\\clinton\\anaconda3\\lib\\site-packages\\joblib\\parallel.py\", line 819, in _dispatch\n",
      "    job = self._backend.apply_async(batch, callback=cb)\n",
      "  File \"C:\\Users\\clinton\\anaconda3\\lib\\site-packages\\joblib\\_parallel_backends.py\", line 208, in apply_async\n",
      "    result = ImmediateResult(func)\n",
      "  File \"C:\\Users\\clinton\\anaconda3\\lib\\site-packages\\joblib\\_parallel_backends.py\", line 597, in __init__\n",
      "    self.results = batch()\n",
      "  File \"C:\\Users\\clinton\\anaconda3\\lib\\site-packages\\joblib\\parallel.py\", line 288, in __call__\n",
      "    return [func(*args, **kwargs)\n",
      "  File \"C:\\Users\\clinton\\anaconda3\\lib\\site-packages\\joblib\\parallel.py\", line 288, in <listcomp>\n",
      "    return [func(*args, **kwargs)\n",
      "  File \"C:\\Users\\clinton\\anaconda3\\lib\\site-packages\\sklearn\\utils\\fixes.py\", line 216, in __call__\n",
      "    return self.function(*args, **kwargs)\n",
      "  File \"C:\\Users\\clinton\\anaconda3\\lib\\site-packages\\sklearn\\ensemble\\_forest.py\", line 185, in _parallel_build_trees\n",
      "    tree.fit(X, y, sample_weight=curr_sample_weight, check_input=False)\n",
      "  File \"C:\\Users\\clinton\\anaconda3\\lib\\site-packages\\sklearn\\tree\\_classes.py\", line 937, in fit\n",
      "    super().fit(\n",
      "  File \"C:\\Users\\clinton\\anaconda3\\lib\\site-packages\\sklearn\\tree\\_classes.py\", line 235, in fit\n",
      "    raise ValueError(\n",
      "ValueError: min_samples_leaf must be at least 1 or in (0, 0.5], got 0\n",
      "\n",
      "  warnings.warn(some_fits_failed_message, FitFailedWarning)\n",
      "C:\\Users\\clinton\\anaconda3\\lib\\site-packages\\sklearn\\model_selection\\_search.py:969: UserWarning: One or more of the test scores are non-finite: [       nan        nan        nan        nan        nan 0.77305786\n",
      " 0.77590071 0.77874438        nan 0.77955883 0.78098201 0.78138727\n",
      "        nan 0.77996575 0.78159032 0.78423198        nan 0.78199744\n",
      " 0.78341938 0.78524803        nan        nan        nan        nan\n",
      "        nan 0.77651253 0.77651191 0.77691882        nan 0.7783389\n",
      " 0.78199703 0.7815897         nan 0.77813565 0.78240374 0.78260658\n",
      "        nan 0.77955904 0.78138748 0.7805755 ]\n",
      "  warnings.warn(\n"
     ]
    },
    {
     "data": {
      "text/plain": [
       "GridSearchCV(estimator=RandomForestClassifier(),\n",
       "             param_grid={'criterion': ['gini', 'entropy'],\n",
       "                         'min_samples_leaf': range(0, 10, 2),\n",
       "                         'n_estimators': range(0, 20, 5)})"
      ]
     },
     "execution_count": 18,
     "metadata": {},
     "output_type": "execute_result"
    }
   ],
   "source": [
    "rf = RandomForestClassifier()\n",
    "gs = GridSearchCV(rf, parameters)\n",
    "gs.fit(X_train, y_train)"
   ]
  },
  {
   "cell_type": "code",
   "execution_count": 19,
   "id": "e869e11d",
   "metadata": {},
   "outputs": [
    {
     "data": {
      "text/plain": [
       "{'criterion': 'gini', 'min_samples_leaf': 8, 'n_estimators': 15}"
      ]
     },
     "execution_count": 19,
     "metadata": {},
     "output_type": "execute_result"
    }
   ],
   "source": [
    "gs.best_params_"
   ]
  },
  {
   "cell_type": "code",
   "execution_count": 20,
   "id": "9db95bc7",
   "metadata": {},
   "outputs": [],
   "source": [
    "pred = gs.predict(X_test)\n"
   ]
  },
  {
   "cell_type": "code",
   "execution_count": 21,
   "id": "5b7eae9d",
   "metadata": {},
   "outputs": [
    {
     "data": {
      "text/plain": [
       "array([0, 0, 0, 0, 0, 0, 0, 1, 0, 0, 1, 0, 0, 0, 0, 0, 1, 0, 1, 0])"
      ]
     },
     "execution_count": 21,
     "metadata": {},
     "output_type": "execute_result"
    }
   ],
   "source": [
    "pred[0:20]"
   ]
  },
  {
   "cell_type": "code",
   "execution_count": 22,
   "id": "4303c8c1",
   "metadata": {},
   "outputs": [
    {
     "data": {
      "text/plain": [
       "[0     0\n",
       " 1     0\n",
       " 2     1\n",
       " 3     0\n",
       " 4     1\n",
       " 5     1\n",
       " 6     0\n",
       " 7     0\n",
       " 8     1\n",
       " 9     0\n",
       " 10    0\n",
       " 11    0\n",
       " 12    0\n",
       " 13    1\n",
       " 14    0\n",
       " 15    0\n",
       " 16    0\n",
       " 17    0\n",
       " 18    1\n",
       " 19    0\n",
       " Name: Churnn, dtype: int32]"
      ]
     },
     "execution_count": 22,
     "metadata": {},
     "output_type": "execute_result"
    }
   ],
   "source": [
    "[clonee['Churnn'][0:20]]"
   ]
  },
  {
   "cell_type": "code",
   "execution_count": 23,
   "id": "eb0f2cc0",
   "metadata": {},
   "outputs": [
    {
     "name": "stdout",
     "output_type": "stream",
     "text": [
      "Model score : 77.7%\n"
     ]
    }
   ],
   "source": [
    "score = accuracy_score(y_test, pred)\n",
    "print('Model score : {}%'.format(round(score*100, 1)))"
   ]
  },
  {
   "cell_type": "code",
   "execution_count": 24,
   "id": "4d45129b",
   "metadata": {},
   "outputs": [
    {
     "name": "stdout",
     "output_type": "stream",
     "text": [
      "              precision    recall  f1-score   support\n",
      "\n",
      "           0       0.83      0.87      0.85      1549\n",
      "           1       0.59      0.51      0.55       561\n",
      "\n",
      "    accuracy                           0.78      2110\n",
      "   macro avg       0.71      0.69      0.70      2110\n",
      "weighted avg       0.77      0.78      0.77      2110\n",
      "\n"
     ]
    }
   ],
   "source": [
    "evaluation_results = classification_report(y_test, pred)\n",
    "print(evaluation_results)"
   ]
  },
  {
   "cell_type": "code",
   "execution_count": 25,
   "id": "fcbc60c7",
   "metadata": {},
   "outputs": [],
   "source": [
    "def plot_confusion_matrix(y,y_predict):\n",
    "    \"this function plots the confusion matrix\"\n",
    "    from sklearn.metrics import confusion_matrix\n",
    "\n",
    "    cm = confusion_matrix(y, y_predict)\n",
    "    ax= plt.subplot()\n",
    "    sns.heatmap(cm, ax = ax); #annot=True to annotate cells\n",
    "    ax.set_xlabel('Predicted labels')\n",
    "    ax.set_ylabel('True labels')\n",
    "    ax.set_title('Confusion Matrix'); \n",
    "    ax.xaxis.set_ticklabels(['not churn', 'churn']); ax.yaxis.set_ticklabels(['not churn', 'not churn'])"
   ]
  },
  {
   "cell_type": "code",
   "execution_count": 27,
   "id": "40ead99e",
   "metadata": {},
   "outputs": [
    {
     "data": {
      "image/png": "[encoded data removed]",
      "text/plain": [
       "<Figure size 432x288 with 2 Axes>"
      ]
     },
     "metadata": {
      "needs_background": "light"
     },
     "output_type": "display_data"
    }
   ],
   "source": [
    "plot_confusion_matrix(y_test, pred)"
   ]
  },
  {
   "cell_type": "markdown",
   "id": "3d61c70e",
   "metadata": {},
   "source": [
    "> Note:\n",
    "    From the classification results above, we noticed that the precision for the minority value(1) customer churn is having a low precision value(0.59), recall score(0.51) which is a result of an imbalanced dataset(oversampling)\n",
    "    To increase the precision value and recall score, we'll be using the smoteenn package to help control oversampling using smote\n",
    "   "
   ]
  },
  {
   "cell_type": "code",
   "execution_count": 26,
   "id": "d2f6714f",
   "metadata": {},
   "outputs": [],
   "source": [
    "sme = SMOTEENN()\n",
    "X_resampled, y_resampled =  sme.fit_resample(X, y)"
   ]
  },
  {
   "cell_type": "code",
   "execution_count": 30,
   "id": "2656f6ac",
   "metadata": {},
   "outputs": [],
   "source": [
    "Xr_train, Xr_test, yr_train, yr_test = train_test_split(X_resampled, y_resampled, test_size=0.3, random_state=42)"
   ]
  },
  {
   "cell_type": "code",
   "execution_count": 31,
   "id": "cbae0b74",
   "metadata": {},
   "outputs": [],
   "source": [
    "rf_smote = RandomForestClassifier(criterion=\"gini\", n_estimators=15, min_samples_leaf=8)"
   ]
  },
  {
   "cell_type": "code",
   "execution_count": 32,
   "id": "577ca5da",
   "metadata": {},
   "outputs": [
    {
     "data": {
      "text/plain": [
       "RandomForestClassifier(min_samples_leaf=8, n_estimators=15)"
      ]
     },
     "execution_count": 32,
     "metadata": {},
     "output_type": "execute_result"
    }
   ],
   "source": [
    "rf_smote.fit(Xr_train, yr_train)"
   ]
  },
  {
   "cell_type": "code",
   "execution_count": 33,
   "id": "f45e49a9",
   "metadata": {},
   "outputs": [
    {
     "data": {
      "text/plain": [
       "array([0, 1, 0, 1, 0, 1, 1, 0, 1, 1, 0, 1, 0, 0, 0, 0, 0, 1, 1, 1])"
      ]
     },
     "execution_count": 33,
     "metadata": {},
     "output_type": "execute_result"
    }
   ],
   "source": [
    "y_predSmote = rf_smote.predict(Xr_test)\n",
    "y_predSmote[0:20]"
   ]
  },
  {
   "cell_type": "code",
   "execution_count": 48,
   "id": "eb4043a0",
   "metadata": {
    "scrolled": true
   },
   "outputs": [
    {
     "name": "stdout",
     "output_type": "stream",
     "text": [
      "Model score : 96%\n"
     ]
    }
   ],
   "source": [
    "model_score = accuracy_score(yr_test, y_predSmote)\n",
    "print(\"Model score : {}%\".format(round(model_score *100), 1))"
   ]
  },
  {
   "cell_type": "code",
   "execution_count": 49,
   "id": "8b09cf24",
   "metadata": {},
   "outputs": [
    {
     "name": "stdout",
     "output_type": "stream",
     "text": [
      "              precision    recall  f1-score   support\n",
      "\n",
      "           0       0.97      0.96      0.97       838\n",
      "           1       0.94      0.96      0.95       550\n",
      "\n",
      "    accuracy                           0.96      1388\n",
      "   macro avg       0.96      0.96      0.96      1388\n",
      "weighted avg       0.96      0.96      0.96      1388\n",
      "\n"
     ]
    }
   ],
   "source": [
    "results_r = classification_report(yr_test, y_predSmote)\n",
    "print(results_r)"
   ]
  },
  {
   "cell_type": "code",
   "execution_count": 89,
   "id": "43528933",
   "metadata": {},
   "outputs": [],
   "source": [
    "#saving the model\n",
    "import pickle\n",
    "filename = 'cc_model.sav'\n",
    "pickle.dump(rf_smote, open(filename, 'wb'))"
   ]
  }
 ],
 "metadata": {
  "kernelspec": {
   "display_name": "Python 3 (ipykernel)",
   "language": "python",
   "name": "python3"
  },
  "language_info": {
   "codemirror_mode": {
    "name": "ipython",
    "version": 3
   },
   "file_extension": ".py",
   "mimetype": "text/x-python",
   "name": "python",
   "nbconvert_exporter": "python",
   "pygments_lexer": "ipython3",
   "version": "3.9.12"
  }
 },
 "nbformat": 4,
 "nbformat_minor": 5
}
