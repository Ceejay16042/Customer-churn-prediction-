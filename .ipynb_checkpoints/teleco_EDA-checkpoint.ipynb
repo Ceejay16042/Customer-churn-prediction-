{
 "cells": [
  {
   "cell_type": "markdown",
   "id": "613a122d",
   "metadata": {},
   "source": [
    "# Exploratory data analysis"
   ]
  },
  {
   "cell_type": "code",
   "execution_count": 2,
   "id": "09d86436",
   "metadata": {},
   "outputs": [],
   "source": [
    "import pandas as pd\n",
    "import numpy as np\n",
    "import matplotlib.pyplot as plt\n",
    "import seaborn as sns\n",
    "import statsmodels.api as sm"
   ]
  },
  {
   "cell_type": "markdown",
   "id": "af2f837d",
   "metadata": {},
   "source": [
    "## Research questions on the teleco_data\n",
    "1. What is the average life time value(LTV) and tenure for the churned customers?\n",
    "2. What subscription were the churned customers active on?\n",
    "3. What is the average Life Time Value(LTV) and tenure for the active customers?\n",
    "4. In what proportions are the contract types engaged in by active and churned customers?\n",
    "5. Among the demographics such as the 'gender', 'partners', 'dependents', 'Phone service', 'Internet Service', 'contract' and 'PaymentMethod', what variable affected the long term value the most?\n",
    "6. What variable among the internet services subsets affect customers LTV the most?"
   ]
  },
  {
   "cell_type": "code",
   "execution_count": 3,
   "id": "cac7d58d",
   "metadata": {},
   "outputs": [],
   "source": [
    "#reading in the dataset\n",
    "telecom_data = pd.read_csv('cleaned_teleco_data.csv')\n",
    "clone = telecom_data.copy()"
   ]
  },
  {
   "cell_type": "code",
   "execution_count": 4,
   "id": "302aecd8",
   "metadata": {},
   "outputs": [],
   "source": [
    "telecom_data.columns\n",
    "telecom_data.drop(columns='tenure_group', inplace=True)"
   ]
  },
  {
   "cell_type": "code",
   "execution_count": 5,
   "id": "c150c5ce",
   "metadata": {},
   "outputs": [
    {
     "data": {
      "text/html": [
       "<div>\n",
       "<style scoped>\n",
       "    .dataframe tbody tr th:only-of-type {\n",
       "        vertical-align: middle;\n",
       "    }\n",
       "\n",
       "    .dataframe tbody tr th {\n",
       "        vertical-align: top;\n",
       "    }\n",
       "\n",
       "    .dataframe thead th {\n",
       "        text-align: right;\n",
       "    }\n",
       "</style>\n",
       "<table border=\"1\" class=\"dataframe\">\n",
       "  <thead>\n",
       "    <tr style=\"text-align: right;\">\n",
       "      <th></th>\n",
       "      <th>Unnamed: 0</th>\n",
       "      <th>customerID</th>\n",
       "      <th>gender</th>\n",
       "      <th>SeniorCitizen</th>\n",
       "      <th>Partner</th>\n",
       "      <th>Dependents</th>\n",
       "      <th>tenure</th>\n",
       "      <th>PhoneService</th>\n",
       "      <th>MultipleLines</th>\n",
       "      <th>InternetService</th>\n",
       "      <th>...</th>\n",
       "      <th>DeviceProtection</th>\n",
       "      <th>TechSupport</th>\n",
       "      <th>StreamingTV</th>\n",
       "      <th>StreamingMovies</th>\n",
       "      <th>Contract</th>\n",
       "      <th>PaperlessBilling</th>\n",
       "      <th>PaymentMethod</th>\n",
       "      <th>MonthlyCharges</th>\n",
       "      <th>TotalCharges</th>\n",
       "      <th>Churn</th>\n",
       "    </tr>\n",
       "  </thead>\n",
       "  <tbody>\n",
       "    <tr>\n",
       "      <th>0</th>\n",
       "      <td>0</td>\n",
       "      <td>7590-VHVEG</td>\n",
       "      <td>F</td>\n",
       "      <td>0</td>\n",
       "      <td>Yes</td>\n",
       "      <td>No</td>\n",
       "      <td>1</td>\n",
       "      <td>No</td>\n",
       "      <td>No phone service</td>\n",
       "      <td>DSL</td>\n",
       "      <td>...</td>\n",
       "      <td>No</td>\n",
       "      <td>No</td>\n",
       "      <td>No</td>\n",
       "      <td>No</td>\n",
       "      <td>Month-to-month</td>\n",
       "      <td>Yes</td>\n",
       "      <td>Electronic check</td>\n",
       "      <td>29.85</td>\n",
       "      <td>29.85</td>\n",
       "      <td>No</td>\n",
       "    </tr>\n",
       "    <tr>\n",
       "      <th>1</th>\n",
       "      <td>1</td>\n",
       "      <td>5575-GNVDE</td>\n",
       "      <td>M</td>\n",
       "      <td>0</td>\n",
       "      <td>No</td>\n",
       "      <td>No</td>\n",
       "      <td>34</td>\n",
       "      <td>Yes</td>\n",
       "      <td>No</td>\n",
       "      <td>DSL</td>\n",
       "      <td>...</td>\n",
       "      <td>Yes</td>\n",
       "      <td>No</td>\n",
       "      <td>No</td>\n",
       "      <td>No</td>\n",
       "      <td>One year</td>\n",
       "      <td>No</td>\n",
       "      <td>Mailed check</td>\n",
       "      <td>56.95</td>\n",
       "      <td>1936.30</td>\n",
       "      <td>No</td>\n",
       "    </tr>\n",
       "    <tr>\n",
       "      <th>2</th>\n",
       "      <td>2</td>\n",
       "      <td>3668-QPYBK</td>\n",
       "      <td>M</td>\n",
       "      <td>0</td>\n",
       "      <td>No</td>\n",
       "      <td>No</td>\n",
       "      <td>2</td>\n",
       "      <td>Yes</td>\n",
       "      <td>No</td>\n",
       "      <td>DSL</td>\n",
       "      <td>...</td>\n",
       "      <td>No</td>\n",
       "      <td>No</td>\n",
       "      <td>No</td>\n",
       "      <td>No</td>\n",
       "      <td>Month-to-month</td>\n",
       "      <td>Yes</td>\n",
       "      <td>Mailed check</td>\n",
       "      <td>53.85</td>\n",
       "      <td>107.70</td>\n",
       "      <td>Yes</td>\n",
       "    </tr>\n",
       "    <tr>\n",
       "      <th>3</th>\n",
       "      <td>3</td>\n",
       "      <td>7795-CFOCW</td>\n",
       "      <td>M</td>\n",
       "      <td>0</td>\n",
       "      <td>No</td>\n",
       "      <td>No</td>\n",
       "      <td>45</td>\n",
       "      <td>No</td>\n",
       "      <td>No phone service</td>\n",
       "      <td>DSL</td>\n",
       "      <td>...</td>\n",
       "      <td>Yes</td>\n",
       "      <td>Yes</td>\n",
       "      <td>No</td>\n",
       "      <td>No</td>\n",
       "      <td>One year</td>\n",
       "      <td>No</td>\n",
       "      <td>Bank transfer (automatic)</td>\n",
       "      <td>42.30</td>\n",
       "      <td>1903.50</td>\n",
       "      <td>No</td>\n",
       "    </tr>\n",
       "    <tr>\n",
       "      <th>4</th>\n",
       "      <td>4</td>\n",
       "      <td>9237-HQITU</td>\n",
       "      <td>F</td>\n",
       "      <td>0</td>\n",
       "      <td>No</td>\n",
       "      <td>No</td>\n",
       "      <td>2</td>\n",
       "      <td>Yes</td>\n",
       "      <td>No</td>\n",
       "      <td>Fiber optic</td>\n",
       "      <td>...</td>\n",
       "      <td>No</td>\n",
       "      <td>No</td>\n",
       "      <td>No</td>\n",
       "      <td>No</td>\n",
       "      <td>Month-to-month</td>\n",
       "      <td>Yes</td>\n",
       "      <td>Electronic check</td>\n",
       "      <td>70.70</td>\n",
       "      <td>141.40</td>\n",
       "      <td>Yes</td>\n",
       "    </tr>\n",
       "  </tbody>\n",
       "</table>\n",
       "<p>5 rows × 22 columns</p>\n",
       "</div>"
      ],
      "text/plain": [
       "   Unnamed: 0  customerID gender  SeniorCitizen Partner Dependents  tenure  \\\n",
       "0           0  7590-VHVEG      F              0     Yes         No       1   \n",
       "1           1  5575-GNVDE      M              0      No         No      34   \n",
       "2           2  3668-QPYBK      M              0      No         No       2   \n",
       "3           3  7795-CFOCW      M              0      No         No      45   \n",
       "4           4  9237-HQITU      F              0      No         No       2   \n",
       "\n",
       "  PhoneService     MultipleLines InternetService  ... DeviceProtection  \\\n",
       "0           No  No phone service             DSL  ...               No   \n",
       "1          Yes                No             DSL  ...              Yes   \n",
       "2          Yes                No             DSL  ...               No   \n",
       "3           No  No phone service             DSL  ...              Yes   \n",
       "4          Yes                No     Fiber optic  ...               No   \n",
       "\n",
       "  TechSupport StreamingTV StreamingMovies        Contract PaperlessBilling  \\\n",
       "0          No          No              No  Month-to-month              Yes   \n",
       "1          No          No              No        One year               No   \n",
       "2          No          No              No  Month-to-month              Yes   \n",
       "3         Yes          No              No        One year               No   \n",
       "4          No          No              No  Month-to-month              Yes   \n",
       "\n",
       "               PaymentMethod MonthlyCharges TotalCharges  Churn  \n",
       "0           Electronic check          29.85        29.85     No  \n",
       "1               Mailed check          56.95      1936.30     No  \n",
       "2               Mailed check          53.85       107.70    Yes  \n",
       "3  Bank transfer (automatic)          42.30      1903.50     No  \n",
       "4           Electronic check          70.70       141.40    Yes  \n",
       "\n",
       "[5 rows x 22 columns]"
      ]
     },
     "execution_count": 5,
     "metadata": {},
     "output_type": "execute_result"
    }
   ],
   "source": [
    "telecom_data.head()"
   ]
  },
  {
   "cell_type": "code",
   "execution_count": 6,
   "id": "c2ffaa5b",
   "metadata": {},
   "outputs": [
    {
     "data": {
      "text/html": [
       "<div>\n",
       "<style scoped>\n",
       "    .dataframe tbody tr th:only-of-type {\n",
       "        vertical-align: middle;\n",
       "    }\n",
       "\n",
       "    .dataframe tbody tr th {\n",
       "        vertical-align: top;\n",
       "    }\n",
       "\n",
       "    .dataframe thead th {\n",
       "        text-align: right;\n",
       "    }\n",
       "</style>\n",
       "<table border=\"1\" class=\"dataframe\">\n",
       "  <thead>\n",
       "    <tr style=\"text-align: right;\">\n",
       "      <th></th>\n",
       "      <th>Unnamed: 0</th>\n",
       "      <th>customerID</th>\n",
       "      <th>gender</th>\n",
       "      <th>SeniorCitizen</th>\n",
       "      <th>Partner</th>\n",
       "      <th>Dependents</th>\n",
       "      <th>tenure</th>\n",
       "      <th>PhoneService</th>\n",
       "      <th>MultipleLines</th>\n",
       "      <th>InternetService</th>\n",
       "      <th>...</th>\n",
       "      <th>TechSupport</th>\n",
       "      <th>StreamingTV</th>\n",
       "      <th>StreamingMovies</th>\n",
       "      <th>Contract</th>\n",
       "      <th>PaperlessBilling</th>\n",
       "      <th>PaymentMethod</th>\n",
       "      <th>MonthlyCharges</th>\n",
       "      <th>TotalCharges</th>\n",
       "      <th>Churn</th>\n",
       "      <th>tenure_group</th>\n",
       "    </tr>\n",
       "  </thead>\n",
       "  <tbody>\n",
       "    <tr>\n",
       "      <th>0</th>\n",
       "      <td>0</td>\n",
       "      <td>7590-VHVEG</td>\n",
       "      <td>F</td>\n",
       "      <td>0</td>\n",
       "      <td>Yes</td>\n",
       "      <td>No</td>\n",
       "      <td>1</td>\n",
       "      <td>No</td>\n",
       "      <td>No phone service</td>\n",
       "      <td>DSL</td>\n",
       "      <td>...</td>\n",
       "      <td>No</td>\n",
       "      <td>No</td>\n",
       "      <td>No</td>\n",
       "      <td>Month-to-month</td>\n",
       "      <td>Yes</td>\n",
       "      <td>Electronic check</td>\n",
       "      <td>29.85</td>\n",
       "      <td>29.85</td>\n",
       "      <td>0</td>\n",
       "      <td>1-12</td>\n",
       "    </tr>\n",
       "    <tr>\n",
       "      <th>1</th>\n",
       "      <td>1</td>\n",
       "      <td>5575-GNVDE</td>\n",
       "      <td>M</td>\n",
       "      <td>0</td>\n",
       "      <td>No</td>\n",
       "      <td>No</td>\n",
       "      <td>34</td>\n",
       "      <td>Yes</td>\n",
       "      <td>No</td>\n",
       "      <td>DSL</td>\n",
       "      <td>...</td>\n",
       "      <td>No</td>\n",
       "      <td>No</td>\n",
       "      <td>No</td>\n",
       "      <td>One year</td>\n",
       "      <td>No</td>\n",
       "      <td>Mailed check</td>\n",
       "      <td>56.95</td>\n",
       "      <td>1936.30</td>\n",
       "      <td>0</td>\n",
       "      <td>25-36</td>\n",
       "    </tr>\n",
       "    <tr>\n",
       "      <th>2</th>\n",
       "      <td>2</td>\n",
       "      <td>3668-QPYBK</td>\n",
       "      <td>M</td>\n",
       "      <td>0</td>\n",
       "      <td>No</td>\n",
       "      <td>No</td>\n",
       "      <td>2</td>\n",
       "      <td>Yes</td>\n",
       "      <td>No</td>\n",
       "      <td>DSL</td>\n",
       "      <td>...</td>\n",
       "      <td>No</td>\n",
       "      <td>No</td>\n",
       "      <td>No</td>\n",
       "      <td>Month-to-month</td>\n",
       "      <td>Yes</td>\n",
       "      <td>Mailed check</td>\n",
       "      <td>53.85</td>\n",
       "      <td>107.70</td>\n",
       "      <td>1</td>\n",
       "      <td>1-12</td>\n",
       "    </tr>\n",
       "    <tr>\n",
       "      <th>3</th>\n",
       "      <td>3</td>\n",
       "      <td>7795-CFOCW</td>\n",
       "      <td>M</td>\n",
       "      <td>0</td>\n",
       "      <td>No</td>\n",
       "      <td>No</td>\n",
       "      <td>45</td>\n",
       "      <td>No</td>\n",
       "      <td>No phone service</td>\n",
       "      <td>DSL</td>\n",
       "      <td>...</td>\n",
       "      <td>Yes</td>\n",
       "      <td>No</td>\n",
       "      <td>No</td>\n",
       "      <td>One year</td>\n",
       "      <td>No</td>\n",
       "      <td>Bank transfer (automatic)</td>\n",
       "      <td>42.30</td>\n",
       "      <td>1903.50</td>\n",
       "      <td>0</td>\n",
       "      <td>37-48</td>\n",
       "    </tr>\n",
       "    <tr>\n",
       "      <th>4</th>\n",
       "      <td>4</td>\n",
       "      <td>9237-HQITU</td>\n",
       "      <td>F</td>\n",
       "      <td>0</td>\n",
       "      <td>No</td>\n",
       "      <td>No</td>\n",
       "      <td>2</td>\n",
       "      <td>Yes</td>\n",
       "      <td>No</td>\n",
       "      <td>Fiber optic</td>\n",
       "      <td>...</td>\n",
       "      <td>No</td>\n",
       "      <td>No</td>\n",
       "      <td>No</td>\n",
       "      <td>Month-to-month</td>\n",
       "      <td>Yes</td>\n",
       "      <td>Electronic check</td>\n",
       "      <td>70.70</td>\n",
       "      <td>141.40</td>\n",
       "      <td>1</td>\n",
       "      <td>1-12</td>\n",
       "    </tr>\n",
       "  </tbody>\n",
       "</table>\n",
       "<p>5 rows × 23 columns</p>\n",
       "</div>"
      ],
      "text/plain": [
       "   Unnamed: 0  customerID gender  SeniorCitizen Partner Dependents  tenure  \\\n",
       "0           0  7590-VHVEG      F              0     Yes         No       1   \n",
       "1           1  5575-GNVDE      M              0      No         No      34   \n",
       "2           2  3668-QPYBK      M              0      No         No       2   \n",
       "3           3  7795-CFOCW      M              0      No         No      45   \n",
       "4           4  9237-HQITU      F              0      No         No       2   \n",
       "\n",
       "  PhoneService     MultipleLines InternetService  ... TechSupport StreamingTV  \\\n",
       "0           No  No phone service             DSL  ...          No          No   \n",
       "1          Yes                No             DSL  ...          No          No   \n",
       "2          Yes                No             DSL  ...          No          No   \n",
       "3           No  No phone service             DSL  ...         Yes          No   \n",
       "4          Yes                No     Fiber optic  ...          No          No   \n",
       "\n",
       "  StreamingMovies        Contract PaperlessBilling              PaymentMethod  \\\n",
       "0              No  Month-to-month              Yes           Electronic check   \n",
       "1              No        One year               No               Mailed check   \n",
       "2              No  Month-to-month              Yes               Mailed check   \n",
       "3              No        One year               No  Bank transfer (automatic)   \n",
       "4              No  Month-to-month              Yes           Electronic check   \n",
       "\n",
       "  MonthlyCharges TotalCharges Churn  tenure_group  \n",
       "0          29.85        29.85     0          1-12  \n",
       "1          56.95      1936.30     0         25-36  \n",
       "2          53.85       107.70     1          1-12  \n",
       "3          42.30      1903.50     0         37-48  \n",
       "4          70.70       141.40     1          1-12  \n",
       "\n",
       "[5 rows x 23 columns]"
      ]
     },
     "execution_count": 6,
     "metadata": {},
     "output_type": "execute_result"
    }
   ],
   "source": [
    "clone['Churn'] = clone['Churn'].replace('Yes', 1).replace('No', 0)\n",
    "clone.head(5)"
   ]
  },
  {
   "cell_type": "code",
   "execution_count": 7,
   "id": "6abced5f",
   "metadata": {},
   "outputs": [
    {
     "data": {
      "text/html": [
       "<div>\n",
       "<style scoped>\n",
       "    .dataframe tbody tr th:only-of-type {\n",
       "        vertical-align: middle;\n",
       "    }\n",
       "\n",
       "    .dataframe tbody tr th {\n",
       "        vertical-align: top;\n",
       "    }\n",
       "\n",
       "    .dataframe thead th {\n",
       "        text-align: right;\n",
       "    }\n",
       "</style>\n",
       "<table border=\"1\" class=\"dataframe\">\n",
       "  <thead>\n",
       "    <tr style=\"text-align: right;\">\n",
       "      <th></th>\n",
       "      <th>Unnamed: 0</th>\n",
       "      <th>customerID</th>\n",
       "      <th>gender</th>\n",
       "      <th>SeniorCitizen</th>\n",
       "      <th>Partner</th>\n",
       "      <th>Dependents</th>\n",
       "      <th>tenure</th>\n",
       "      <th>PhoneService</th>\n",
       "      <th>MultipleLines</th>\n",
       "      <th>InternetService</th>\n",
       "      <th>...</th>\n",
       "      <th>DeviceProtection</th>\n",
       "      <th>TechSupport</th>\n",
       "      <th>StreamingTV</th>\n",
       "      <th>StreamingMovies</th>\n",
       "      <th>Contract</th>\n",
       "      <th>PaperlessBilling</th>\n",
       "      <th>PaymentMethod</th>\n",
       "      <th>MonthlyCharges</th>\n",
       "      <th>TotalCharges</th>\n",
       "      <th>Churn</th>\n",
       "    </tr>\n",
       "  </thead>\n",
       "  <tbody>\n",
       "    <tr>\n",
       "      <th>0</th>\n",
       "      <td>0</td>\n",
       "      <td>7590-VHVEG</td>\n",
       "      <td>F</td>\n",
       "      <td>0</td>\n",
       "      <td>Yes</td>\n",
       "      <td>No</td>\n",
       "      <td>1</td>\n",
       "      <td>No</td>\n",
       "      <td>No phone service</td>\n",
       "      <td>DSL</td>\n",
       "      <td>...</td>\n",
       "      <td>No</td>\n",
       "      <td>No</td>\n",
       "      <td>No</td>\n",
       "      <td>No</td>\n",
       "      <td>Month-to-month</td>\n",
       "      <td>Yes</td>\n",
       "      <td>Electronic check</td>\n",
       "      <td>29.85</td>\n",
       "      <td>29.85</td>\n",
       "      <td>No</td>\n",
       "    </tr>\n",
       "    <tr>\n",
       "      <th>1</th>\n",
       "      <td>1</td>\n",
       "      <td>5575-GNVDE</td>\n",
       "      <td>M</td>\n",
       "      <td>0</td>\n",
       "      <td>No</td>\n",
       "      <td>No</td>\n",
       "      <td>34</td>\n",
       "      <td>Yes</td>\n",
       "      <td>No</td>\n",
       "      <td>DSL</td>\n",
       "      <td>...</td>\n",
       "      <td>Yes</td>\n",
       "      <td>No</td>\n",
       "      <td>No</td>\n",
       "      <td>No</td>\n",
       "      <td>One year</td>\n",
       "      <td>No</td>\n",
       "      <td>Mailed check</td>\n",
       "      <td>56.95</td>\n",
       "      <td>1936.30</td>\n",
       "      <td>No</td>\n",
       "    </tr>\n",
       "    <tr>\n",
       "      <th>2</th>\n",
       "      <td>2</td>\n",
       "      <td>3668-QPYBK</td>\n",
       "      <td>M</td>\n",
       "      <td>0</td>\n",
       "      <td>No</td>\n",
       "      <td>No</td>\n",
       "      <td>2</td>\n",
       "      <td>Yes</td>\n",
       "      <td>No</td>\n",
       "      <td>DSL</td>\n",
       "      <td>...</td>\n",
       "      <td>No</td>\n",
       "      <td>No</td>\n",
       "      <td>No</td>\n",
       "      <td>No</td>\n",
       "      <td>Month-to-month</td>\n",
       "      <td>Yes</td>\n",
       "      <td>Mailed check</td>\n",
       "      <td>53.85</td>\n",
       "      <td>107.70</td>\n",
       "      <td>Yes</td>\n",
       "    </tr>\n",
       "    <tr>\n",
       "      <th>3</th>\n",
       "      <td>3</td>\n",
       "      <td>7795-CFOCW</td>\n",
       "      <td>M</td>\n",
       "      <td>0</td>\n",
       "      <td>No</td>\n",
       "      <td>No</td>\n",
       "      <td>45</td>\n",
       "      <td>No</td>\n",
       "      <td>No phone service</td>\n",
       "      <td>DSL</td>\n",
       "      <td>...</td>\n",
       "      <td>Yes</td>\n",
       "      <td>Yes</td>\n",
       "      <td>No</td>\n",
       "      <td>No</td>\n",
       "      <td>One year</td>\n",
       "      <td>No</td>\n",
       "      <td>Bank transfer (automatic)</td>\n",
       "      <td>42.30</td>\n",
       "      <td>1903.50</td>\n",
       "      <td>No</td>\n",
       "    </tr>\n",
       "    <tr>\n",
       "      <th>4</th>\n",
       "      <td>4</td>\n",
       "      <td>9237-HQITU</td>\n",
       "      <td>F</td>\n",
       "      <td>0</td>\n",
       "      <td>No</td>\n",
       "      <td>No</td>\n",
       "      <td>2</td>\n",
       "      <td>Yes</td>\n",
       "      <td>No</td>\n",
       "      <td>Fiber optic</td>\n",
       "      <td>...</td>\n",
       "      <td>No</td>\n",
       "      <td>No</td>\n",
       "      <td>No</td>\n",
       "      <td>No</td>\n",
       "      <td>Month-to-month</td>\n",
       "      <td>Yes</td>\n",
       "      <td>Electronic check</td>\n",
       "      <td>70.70</td>\n",
       "      <td>141.40</td>\n",
       "      <td>Yes</td>\n",
       "    </tr>\n",
       "  </tbody>\n",
       "</table>\n",
       "<p>5 rows × 22 columns</p>\n",
       "</div>"
      ],
      "text/plain": [
       "   Unnamed: 0  customerID gender  SeniorCitizen Partner Dependents  tenure  \\\n",
       "0           0  7590-VHVEG      F              0     Yes         No       1   \n",
       "1           1  5575-GNVDE      M              0      No         No      34   \n",
       "2           2  3668-QPYBK      M              0      No         No       2   \n",
       "3           3  7795-CFOCW      M              0      No         No      45   \n",
       "4           4  9237-HQITU      F              0      No         No       2   \n",
       "\n",
       "  PhoneService     MultipleLines InternetService  ... DeviceProtection  \\\n",
       "0           No  No phone service             DSL  ...               No   \n",
       "1          Yes                No             DSL  ...              Yes   \n",
       "2          Yes                No             DSL  ...               No   \n",
       "3           No  No phone service             DSL  ...              Yes   \n",
       "4          Yes                No     Fiber optic  ...               No   \n",
       "\n",
       "  TechSupport StreamingTV StreamingMovies        Contract PaperlessBilling  \\\n",
       "0          No          No              No  Month-to-month              Yes   \n",
       "1          No          No              No        One year               No   \n",
       "2          No          No              No  Month-to-month              Yes   \n",
       "3         Yes          No              No        One year               No   \n",
       "4          No          No              No  Month-to-month              Yes   \n",
       "\n",
       "               PaymentMethod MonthlyCharges TotalCharges  Churn  \n",
       "0           Electronic check          29.85        29.85     No  \n",
       "1               Mailed check          56.95      1936.30     No  \n",
       "2               Mailed check          53.85       107.70    Yes  \n",
       "3  Bank transfer (automatic)          42.30      1903.50     No  \n",
       "4           Electronic check          70.70       141.40    Yes  \n",
       "\n",
       "[5 rows x 22 columns]"
      ]
     },
     "execution_count": 7,
     "metadata": {},
     "output_type": "execute_result"
    }
   ],
   "source": [
    "telecom_data.head()"
   ]
  },
  {
   "cell_type": "code",
   "execution_count": 8,
   "id": "15d74067",
   "metadata": {},
   "outputs": [
    {
     "data": {
      "text/plain": [
       "1869"
      ]
     },
     "execution_count": 8,
     "metadata": {},
     "output_type": "execute_result"
    }
   ],
   "source": [
    "#total number of churned customers \n",
    "churned_customers = telecom_data.query(\"Churn=='Yes'\")\n",
    "\n",
    "churned_customers.shape[0]"
   ]
  },
  {
   "cell_type": "code",
   "execution_count": 9,
   "id": "c317d2cf",
   "metadata": {},
   "outputs": [],
   "source": [
    "telecom_data.drop(columns=['Unnamed: 0'], inplace=True)"
   ]
  },
  {
   "cell_type": "code",
   "execution_count": 10,
   "id": "7d2f81c4",
   "metadata": {},
   "outputs": [
    {
     "data": {
      "text/plain": [
       "array([[<AxesSubplot:title={'center':'SeniorCitizen'}>,\n",
       "        <AxesSubplot:title={'center':'tenure'}>],\n",
       "       [<AxesSubplot:title={'center':'MonthlyCharges'}>,\n",
       "        <AxesSubplot:title={'center':'TotalCharges'}>]], dtype=object)"
      ]
     },
     "execution_count": 10,
     "metadata": {},
     "output_type": "execute_result"
    },
    {
     "data": {
      "image/png": "[encoded data removed]",
      "text/plain": [
       "<Figure size 720x720 with 4 Axes>"
      ]
     },
     "metadata": {
      "needs_background": "light"
     },
     "output_type": "display_data"
    }
   ],
   "source": [
    "''''histogram visualization plot showing thediscrete and continuous variables in the\n",
    "telecom da\n",
    "ta measured on an interval scale'''\n",
    "telecom_data.hist(figsize=(10, 10))"
   ]
  },
  {
   "cell_type": "code",
   "execution_count": 11,
   "id": "2760bd20",
   "metadata": {},
   "outputs": [],
   "source": [
    "def plot(title=\"\", xscale=\"\", yscale=\"\", xlabel=\"\",\n",
    "         ylabel=\"\", xlim=\"\", ylim=\"\", xticks1=\"\", xticks2=\"\",\n",
    "         yticks1=\"\", yticks2=\"\", legend_title=\"\", legend_labels=''):\n",
    "    if title:\n",
    "        plt.title(title)\n",
    "    if xscale:\n",
    "        plt.xscale(xscale)\n",
    "    if yscale:\n",
    "        plt.yscale(yscale)\n",
    "    if xlabel:\n",
    "        plt.xlabel(xlabel)\n",
    "    if ylabel:\n",
    "        plt.ylabel(ylabel)\n",
    "    if xlim:\n",
    "        plt.xlim(xlim)\n",
    "    if ylim:\n",
    "        plt.ylim(ylim)\n",
    "    if xticks1:\n",
    "        plt.xticks(xticks1, xticks2)\n",
    "    if yticks1:\n",
    "        plt.yticks(yticks1, yticks2)\n",
    "    if legend_title:\n",
    "        plt.legend(title=legend_title)\n",
    "    else:\n",
    "        return None\n",
    "    "
   ]
  },
  {
   "cell_type": "markdown",
   "id": "6035cb2f",
   "metadata": {},
   "source": [
    "### Research Question 1: What was the average life time value of the churned customers? and how long did they stay in the telecom provided service?"
   ]
  },
  {
   "cell_type": "code",
   "execution_count": 12,
   "id": "758f0884",
   "metadata": {},
   "outputs": [],
   "source": [
    "churned_customers = telecom_data.query(\"Churn=='Yes'\")"
   ]
  },
  {
   "cell_type": "code",
   "execution_count": 13,
   "id": "5920222a",
   "metadata": {},
   "outputs": [
    {
     "data": {
      "text/plain": [
       "count    1869.000000\n",
       "mean     1531.608828\n",
       "std      1886.774930\n",
       "min        18.850000\n",
       "25%       137.900000\n",
       "50%       700.000000\n",
       "75%      2334.800000\n",
       "max      8481.600000\n",
       "Name: TotalCharges, dtype: float64"
      ]
     },
     "execution_count": 13,
     "metadata": {},
     "output_type": "execute_result"
    }
   ],
   "source": [
    "churned_customers.TotalCharges.describe()"
   ]
  },
  {
   "cell_type": "code",
   "execution_count": 14,
   "id": "96e1bbb5",
   "metadata": {},
   "outputs": [
    {
     "data": {
      "text/plain": [
       "<AxesSubplot:>"
      ]
     },
     "execution_count": 14,
     "metadata": {},
     "output_type": "execute_result"
    },
    {
     "data": {
      "image/png": "[encoded data removed]",
      "text/plain": [
       "<Figure size 432x288 with 1 Axes>"
      ]
     },
     "metadata": {
      "needs_background": "light"
     },
     "output_type": "display_data"
    }
   ],
   "source": [
    "#visualization of the totalCharges column\n",
    "churned_customers.TotalCharges.hist()"
   ]
  },
  {
   "cell_type": "markdown",
   "id": "5686db27",
   "metadata": {},
   "source": [
    "#### from the visualization above, it is observed that about 20% of the TotalCharges data are extremely high, so a division would be done to see each distribution of the data"
   ]
  },
  {
   "cell_type": "code",
   "execution_count": 15,
   "id": "0c8bdd04",
   "metadata": {},
   "outputs": [
    {
     "data": {
      "text/plain": [
       "2827.5900000000006"
      ]
     },
     "execution_count": 15,
     "metadata": {},
     "output_type": "execute_result"
    }
   ],
   "source": [
    "#80th percentile of the totalCharges of the churned customers\n",
    "cc_percentile = churned_customers.TotalCharges.quantile(0.8)\n",
    "cc_percentile"
   ]
  },
  {
   "cell_type": "code",
   "execution_count": 16,
   "id": "30f4fd20",
   "metadata": {},
   "outputs": [],
   "source": [
    "#dividing the customers totalCharges into two categories(above and below the 80th percentile)\n",
    "TotalCharges_above80p = churned_customers.query(\"TotalCharges >= 2827.59\")\n",
    "TotalCharges_below80p = churned_customers.query(\"TotalCharges <= 2827.59\")"
   ]
  },
  {
   "cell_type": "code",
   "execution_count": 17,
   "id": "cf8ea31c",
   "metadata": {},
   "outputs": [
    {
     "data": {
      "text/html": [
       "<div>\n",
       "<style scoped>\n",
       "    .dataframe tbody tr th:only-of-type {\n",
       "        vertical-align: middle;\n",
       "    }\n",
       "\n",
       "    .dataframe tbody tr th {\n",
       "        vertical-align: top;\n",
       "    }\n",
       "\n",
       "    .dataframe thead th {\n",
       "        text-align: right;\n",
       "    }\n",
       "</style>\n",
       "<table border=\"1\" class=\"dataframe\">\n",
       "  <thead>\n",
       "    <tr style=\"text-align: right;\">\n",
       "      <th></th>\n",
       "      <th>customerID</th>\n",
       "      <th>gender</th>\n",
       "      <th>SeniorCitizen</th>\n",
       "      <th>Partner</th>\n",
       "      <th>Dependents</th>\n",
       "      <th>tenure</th>\n",
       "      <th>PhoneService</th>\n",
       "      <th>MultipleLines</th>\n",
       "      <th>InternetService</th>\n",
       "      <th>OnlineSecurity</th>\n",
       "      <th>...</th>\n",
       "      <th>DeviceProtection</th>\n",
       "      <th>TechSupport</th>\n",
       "      <th>StreamingTV</th>\n",
       "      <th>StreamingMovies</th>\n",
       "      <th>Contract</th>\n",
       "      <th>PaperlessBilling</th>\n",
       "      <th>PaymentMethod</th>\n",
       "      <th>MonthlyCharges</th>\n",
       "      <th>TotalCharges</th>\n",
       "      <th>Churn</th>\n",
       "    </tr>\n",
       "  </thead>\n",
       "  <tbody>\n",
       "    <tr>\n",
       "      <th>2</th>\n",
       "      <td>3668-QPYBK</td>\n",
       "      <td>M</td>\n",
       "      <td>0</td>\n",
       "      <td>No</td>\n",
       "      <td>No</td>\n",
       "      <td>2</td>\n",
       "      <td>Yes</td>\n",
       "      <td>No</td>\n",
       "      <td>DSL</td>\n",
       "      <td>Yes</td>\n",
       "      <td>...</td>\n",
       "      <td>No</td>\n",
       "      <td>No</td>\n",
       "      <td>No</td>\n",
       "      <td>No</td>\n",
       "      <td>Month-to-month</td>\n",
       "      <td>Yes</td>\n",
       "      <td>Mailed check</td>\n",
       "      <td>53.85</td>\n",
       "      <td>107.70</td>\n",
       "      <td>Yes</td>\n",
       "    </tr>\n",
       "    <tr>\n",
       "      <th>4</th>\n",
       "      <td>9237-HQITU</td>\n",
       "      <td>F</td>\n",
       "      <td>0</td>\n",
       "      <td>No</td>\n",
       "      <td>No</td>\n",
       "      <td>2</td>\n",
       "      <td>Yes</td>\n",
       "      <td>No</td>\n",
       "      <td>Fiber optic</td>\n",
       "      <td>No</td>\n",
       "      <td>...</td>\n",
       "      <td>No</td>\n",
       "      <td>No</td>\n",
       "      <td>No</td>\n",
       "      <td>No</td>\n",
       "      <td>Month-to-month</td>\n",
       "      <td>Yes</td>\n",
       "      <td>Electronic check</td>\n",
       "      <td>70.70</td>\n",
       "      <td>141.40</td>\n",
       "      <td>Yes</td>\n",
       "    </tr>\n",
       "    <tr>\n",
       "      <th>5</th>\n",
       "      <td>9305-CDSKC</td>\n",
       "      <td>F</td>\n",
       "      <td>0</td>\n",
       "      <td>No</td>\n",
       "      <td>No</td>\n",
       "      <td>8</td>\n",
       "      <td>Yes</td>\n",
       "      <td>Yes</td>\n",
       "      <td>Fiber optic</td>\n",
       "      <td>No</td>\n",
       "      <td>...</td>\n",
       "      <td>Yes</td>\n",
       "      <td>No</td>\n",
       "      <td>Yes</td>\n",
       "      <td>Yes</td>\n",
       "      <td>Month-to-month</td>\n",
       "      <td>Yes</td>\n",
       "      <td>Electronic check</td>\n",
       "      <td>99.65</td>\n",
       "      <td>797.20</td>\n",
       "      <td>Yes</td>\n",
       "    </tr>\n",
       "    <tr>\n",
       "      <th>18</th>\n",
       "      <td>4190-MFLUW</td>\n",
       "      <td>F</td>\n",
       "      <td>0</td>\n",
       "      <td>Yes</td>\n",
       "      <td>Yes</td>\n",
       "      <td>10</td>\n",
       "      <td>Yes</td>\n",
       "      <td>No</td>\n",
       "      <td>DSL</td>\n",
       "      <td>No</td>\n",
       "      <td>...</td>\n",
       "      <td>Yes</td>\n",
       "      <td>Yes</td>\n",
       "      <td>No</td>\n",
       "      <td>No</td>\n",
       "      <td>Month-to-month</td>\n",
       "      <td>No</td>\n",
       "      <td>Credit card (automatic)</td>\n",
       "      <td>55.20</td>\n",
       "      <td>552.00</td>\n",
       "      <td>Yes</td>\n",
       "    </tr>\n",
       "    <tr>\n",
       "      <th>20</th>\n",
       "      <td>8779-QRDMV</td>\n",
       "      <td>M</td>\n",
       "      <td>1</td>\n",
       "      <td>No</td>\n",
       "      <td>No</td>\n",
       "      <td>1</td>\n",
       "      <td>No</td>\n",
       "      <td>No phone service</td>\n",
       "      <td>DSL</td>\n",
       "      <td>No</td>\n",
       "      <td>...</td>\n",
       "      <td>Yes</td>\n",
       "      <td>No</td>\n",
       "      <td>No</td>\n",
       "      <td>Yes</td>\n",
       "      <td>Month-to-month</td>\n",
       "      <td>Yes</td>\n",
       "      <td>Electronic check</td>\n",
       "      <td>39.65</td>\n",
       "      <td>39.65</td>\n",
       "      <td>Yes</td>\n",
       "    </tr>\n",
       "  </tbody>\n",
       "</table>\n",
       "<p>5 rows × 21 columns</p>\n",
       "</div>"
      ],
      "text/plain": [
       "    customerID gender  SeniorCitizen Partner Dependents  tenure PhoneService  \\\n",
       "2   3668-QPYBK      M              0      No         No       2          Yes   \n",
       "4   9237-HQITU      F              0      No         No       2          Yes   \n",
       "5   9305-CDSKC      F              0      No         No       8          Yes   \n",
       "18  4190-MFLUW      F              0     Yes        Yes      10          Yes   \n",
       "20  8779-QRDMV      M              1      No         No       1           No   \n",
       "\n",
       "       MultipleLines InternetService OnlineSecurity  ... DeviceProtection  \\\n",
       "2                 No             DSL            Yes  ...               No   \n",
       "4                 No     Fiber optic             No  ...               No   \n",
       "5                Yes     Fiber optic             No  ...              Yes   \n",
       "18                No             DSL             No  ...              Yes   \n",
       "20  No phone service             DSL             No  ...              Yes   \n",
       "\n",
       "   TechSupport StreamingTV StreamingMovies        Contract PaperlessBilling  \\\n",
       "2           No          No              No  Month-to-month              Yes   \n",
       "4           No          No              No  Month-to-month              Yes   \n",
       "5           No         Yes             Yes  Month-to-month              Yes   \n",
       "18         Yes          No              No  Month-to-month               No   \n",
       "20          No          No             Yes  Month-to-month              Yes   \n",
       "\n",
       "              PaymentMethod MonthlyCharges  TotalCharges  Churn  \n",
       "2              Mailed check          53.85        107.70    Yes  \n",
       "4          Electronic check          70.70        141.40    Yes  \n",
       "5          Electronic check          99.65        797.20    Yes  \n",
       "18  Credit card (automatic)          55.20        552.00    Yes  \n",
       "20         Electronic check          39.65         39.65    Yes  \n",
       "\n",
       "[5 rows x 21 columns]"
      ]
     },
     "execution_count": 17,
     "metadata": {},
     "output_type": "execute_result"
    }
   ],
   "source": [
    "TotalCharges_below80p.head()"
   ]
  },
  {
   "cell_type": "code",
   "execution_count": 18,
   "id": "0d174660",
   "metadata": {},
   "outputs": [
    {
     "data": {
      "text/html": [
       "<div>\n",
       "<style scoped>\n",
       "    .dataframe tbody tr th:only-of-type {\n",
       "        vertical-align: middle;\n",
       "    }\n",
       "\n",
       "    .dataframe tbody tr th {\n",
       "        vertical-align: top;\n",
       "    }\n",
       "\n",
       "    .dataframe thead th {\n",
       "        text-align: right;\n",
       "    }\n",
       "</style>\n",
       "<table border=\"1\" class=\"dataframe\">\n",
       "  <thead>\n",
       "    <tr style=\"text-align: right;\">\n",
       "      <th></th>\n",
       "      <th>customerID</th>\n",
       "      <th>gender</th>\n",
       "      <th>SeniorCitizen</th>\n",
       "      <th>Partner</th>\n",
       "      <th>Dependents</th>\n",
       "      <th>tenure</th>\n",
       "      <th>PhoneService</th>\n",
       "      <th>MultipleLines</th>\n",
       "      <th>InternetService</th>\n",
       "      <th>OnlineSecurity</th>\n",
       "      <th>...</th>\n",
       "      <th>DeviceProtection</th>\n",
       "      <th>TechSupport</th>\n",
       "      <th>StreamingTV</th>\n",
       "      <th>StreamingMovies</th>\n",
       "      <th>Contract</th>\n",
       "      <th>PaperlessBilling</th>\n",
       "      <th>PaymentMethod</th>\n",
       "      <th>MonthlyCharges</th>\n",
       "      <th>TotalCharges</th>\n",
       "      <th>Churn</th>\n",
       "    </tr>\n",
       "  </thead>\n",
       "  <tbody>\n",
       "    <tr>\n",
       "      <th>8</th>\n",
       "      <td>7892-POOKP</td>\n",
       "      <td>F</td>\n",
       "      <td>0</td>\n",
       "      <td>Yes</td>\n",
       "      <td>No</td>\n",
       "      <td>28</td>\n",
       "      <td>Yes</td>\n",
       "      <td>Yes</td>\n",
       "      <td>Fiber optic</td>\n",
       "      <td>No</td>\n",
       "      <td>...</td>\n",
       "      <td>Yes</td>\n",
       "      <td>Yes</td>\n",
       "      <td>Yes</td>\n",
       "      <td>Yes</td>\n",
       "      <td>Month-to-month</td>\n",
       "      <td>Yes</td>\n",
       "      <td>Electronic check</td>\n",
       "      <td>104.80</td>\n",
       "      <td>2934.40</td>\n",
       "      <td>Yes</td>\n",
       "    </tr>\n",
       "    <tr>\n",
       "      <th>13</th>\n",
       "      <td>0280-XJGEX</td>\n",
       "      <td>M</td>\n",
       "      <td>0</td>\n",
       "      <td>No</td>\n",
       "      <td>No</td>\n",
       "      <td>49</td>\n",
       "      <td>Yes</td>\n",
       "      <td>Yes</td>\n",
       "      <td>Fiber optic</td>\n",
       "      <td>No</td>\n",
       "      <td>...</td>\n",
       "      <td>Yes</td>\n",
       "      <td>No</td>\n",
       "      <td>Yes</td>\n",
       "      <td>Yes</td>\n",
       "      <td>Month-to-month</td>\n",
       "      <td>Yes</td>\n",
       "      <td>Bank transfer (automatic)</td>\n",
       "      <td>103.70</td>\n",
       "      <td>5081.30</td>\n",
       "      <td>Yes</td>\n",
       "    </tr>\n",
       "    <tr>\n",
       "      <th>26</th>\n",
       "      <td>6467-CHFZW</td>\n",
       "      <td>M</td>\n",
       "      <td>0</td>\n",
       "      <td>Yes</td>\n",
       "      <td>Yes</td>\n",
       "      <td>47</td>\n",
       "      <td>Yes</td>\n",
       "      <td>Yes</td>\n",
       "      <td>Fiber optic</td>\n",
       "      <td>No</td>\n",
       "      <td>...</td>\n",
       "      <td>No</td>\n",
       "      <td>No</td>\n",
       "      <td>Yes</td>\n",
       "      <td>Yes</td>\n",
       "      <td>Month-to-month</td>\n",
       "      <td>Yes</td>\n",
       "      <td>Electronic check</td>\n",
       "      <td>99.35</td>\n",
       "      <td>4669.45</td>\n",
       "      <td>Yes</td>\n",
       "    </tr>\n",
       "    <tr>\n",
       "      <th>38</th>\n",
       "      <td>5380-WJKOV</td>\n",
       "      <td>M</td>\n",
       "      <td>0</td>\n",
       "      <td>No</td>\n",
       "      <td>No</td>\n",
       "      <td>34</td>\n",
       "      <td>Yes</td>\n",
       "      <td>Yes</td>\n",
       "      <td>Fiber optic</td>\n",
       "      <td>No</td>\n",
       "      <td>...</td>\n",
       "      <td>Yes</td>\n",
       "      <td>No</td>\n",
       "      <td>Yes</td>\n",
       "      <td>Yes</td>\n",
       "      <td>Month-to-month</td>\n",
       "      <td>Yes</td>\n",
       "      <td>Electronic check</td>\n",
       "      <td>106.35</td>\n",
       "      <td>3615.90</td>\n",
       "      <td>Yes</td>\n",
       "    </tr>\n",
       "    <tr>\n",
       "      <th>104</th>\n",
       "      <td>3192-NQECA</td>\n",
       "      <td>M</td>\n",
       "      <td>0</td>\n",
       "      <td>Yes</td>\n",
       "      <td>No</td>\n",
       "      <td>68</td>\n",
       "      <td>Yes</td>\n",
       "      <td>Yes</td>\n",
       "      <td>Fiber optic</td>\n",
       "      <td>No</td>\n",
       "      <td>...</td>\n",
       "      <td>Yes</td>\n",
       "      <td>Yes</td>\n",
       "      <td>Yes</td>\n",
       "      <td>Yes</td>\n",
       "      <td>Two year</td>\n",
       "      <td>Yes</td>\n",
       "      <td>Bank transfer (automatic)</td>\n",
       "      <td>110.00</td>\n",
       "      <td>7480.00</td>\n",
       "      <td>Yes</td>\n",
       "    </tr>\n",
       "  </tbody>\n",
       "</table>\n",
       "<p>5 rows × 21 columns</p>\n",
       "</div>"
      ],
      "text/plain": [
       "     customerID gender  SeniorCitizen Partner Dependents  tenure PhoneService  \\\n",
       "8    7892-POOKP      F              0     Yes         No      28          Yes   \n",
       "13   0280-XJGEX      M              0      No         No      49          Yes   \n",
       "26   6467-CHFZW      M              0     Yes        Yes      47          Yes   \n",
       "38   5380-WJKOV      M              0      No         No      34          Yes   \n",
       "104  3192-NQECA      M              0     Yes         No      68          Yes   \n",
       "\n",
       "    MultipleLines InternetService OnlineSecurity  ... DeviceProtection  \\\n",
       "8             Yes     Fiber optic             No  ...              Yes   \n",
       "13            Yes     Fiber optic             No  ...              Yes   \n",
       "26            Yes     Fiber optic             No  ...               No   \n",
       "38            Yes     Fiber optic             No  ...              Yes   \n",
       "104           Yes     Fiber optic             No  ...              Yes   \n",
       "\n",
       "    TechSupport StreamingTV StreamingMovies        Contract PaperlessBilling  \\\n",
       "8           Yes         Yes             Yes  Month-to-month              Yes   \n",
       "13           No         Yes             Yes  Month-to-month              Yes   \n",
       "26           No         Yes             Yes  Month-to-month              Yes   \n",
       "38           No         Yes             Yes  Month-to-month              Yes   \n",
       "104         Yes         Yes             Yes        Two year              Yes   \n",
       "\n",
       "                 PaymentMethod MonthlyCharges  TotalCharges  Churn  \n",
       "8             Electronic check         104.80       2934.40    Yes  \n",
       "13   Bank transfer (automatic)         103.70       5081.30    Yes  \n",
       "26            Electronic check          99.35       4669.45    Yes  \n",
       "38            Electronic check         106.35       3615.90    Yes  \n",
       "104  Bank transfer (automatic)         110.00       7480.00    Yes  \n",
       "\n",
       "[5 rows x 21 columns]"
      ]
     },
     "execution_count": 18,
     "metadata": {},
     "output_type": "execute_result"
    }
   ],
   "source": [
    "TotalCharges_above80p.head()"
   ]
  },
  {
   "cell_type": "code",
   "execution_count": 19,
   "id": "f93fd5a3",
   "metadata": {},
   "outputs": [
    {
     "data": {
      "text/plain": [
       "count     374.000000\n",
       "mean     4801.610160\n",
       "std      1432.384076\n",
       "min      2830.500000\n",
       "25%      3523.275000\n",
       "50%      4607.300000\n",
       "75%      5863.450000\n",
       "max      8481.600000\n",
       "Name: TotalCharges, dtype: float64"
      ]
     },
     "execution_count": 19,
     "metadata": {},
     "output_type": "execute_result"
    }
   ],
   "source": [
    "TotalCharges_above80p.TotalCharges.describe()"
   ]
  },
  {
   "cell_type": "code",
   "execution_count": 20,
   "id": "08551285",
   "metadata": {},
   "outputs": [
    {
     "data": {
      "text/plain": [
       "count    1495.000000\n",
       "mean      713.561672\n",
       "std       769.669864\n",
       "min        18.850000\n",
       "25%        85.900000\n",
       "50%       377.600000\n",
       "75%      1132.575000\n",
       "max      2825.650000\n",
       "Name: TotalCharges, dtype: float64"
      ]
     },
     "execution_count": 20,
     "metadata": {},
     "output_type": "execute_result"
    }
   ],
   "source": [
    "TotalCharges_below80p.TotalCharges.describe()"
   ]
  },
  {
   "cell_type": "code",
   "execution_count": 21,
   "id": "cb29f74a",
   "metadata": {},
   "outputs": [
    {
     "data": {
      "text/plain": [
       "count    374.000000\n",
       "mean      50.141711\n",
       "std       12.322030\n",
       "min       28.000000\n",
       "25%       40.000000\n",
       "50%       49.500000\n",
       "75%       60.000000\n",
       "max       72.000000\n",
       "Name: tenure, dtype: float64"
      ]
     },
     "execution_count": 21,
     "metadata": {},
     "output_type": "execute_result"
    }
   ],
   "source": [
    "TotalCharges_above80p.tenure.describe()"
   ]
  },
  {
   "cell_type": "code",
   "execution_count": 22,
   "id": "41503d96",
   "metadata": {},
   "outputs": [
    {
     "data": {
      "text/plain": [
       "count    1495.000000\n",
       "mean        9.933110\n",
       "std        10.738504\n",
       "min         1.000000\n",
       "25%         1.000000\n",
       "50%         6.000000\n",
       "75%        15.000000\n",
       "max        61.000000\n",
       "Name: tenure, dtype: float64"
      ]
     },
     "execution_count": 22,
     "metadata": {},
     "output_type": "execute_result"
    }
   ],
   "source": [
    "TotalCharges_below80p.tenure.describe()"
   ]
  },
  {
   "cell_type": "code",
   "execution_count": 23,
   "id": "226f0683",
   "metadata": {},
   "outputs": [
    {
     "data": {
      "image/png": "[encoded data removed]",
      "text/plain": [
       "<Figure size 1080x360 with 2 Axes>"
      ]
     },
     "metadata": {
      "needs_background": "light"
     },
     "output_type": "display_data"
    }
   ],
   "source": [
    "#Average life time value of customers who churned \n",
    "'''y axis LTV plot based on the interval of the mean of the under and above\n",
    "80th percentile of TotalCharges of the each customers''' \n",
    "plt.figure(figsize=(15, 5))\n",
    "plt.subplot(1, 2, 1)\n",
    "plt.bar([1, 2], [713, 4801])\n",
    "plot(yticks1=range(0,5250,250), yticks2=range(0, 5250, 250), xticks1=[1,2],xticks2=['80%(Low LTV)', '20%(High LTV)'],ylabel='LTV(dollars)',xlabel='Customers who unsubscribed', title='LTV(Life Time Value) by 80/20% of those who unsubscribed')\n",
    "\n",
    "\n",
    "#right plot\n",
    "'''y axis tenure plot based on the interval of the mean of below and above 80th percentile of customer's tenure'''\n",
    "plt.subplot(1, 2, 2)\n",
    "plt.bar([1, 2], [9.9, 50.1])\n",
    "plot(yticks2=[0, 50, 10], xticks1=[1,2], xticks2=['80%(Low LTV)', '20%(High LTV)'], ylabel='tenure(months)', xlabel='Customers who unsubscribed', title='Tenure(month) by 80/20% of those who unsubscribed')"
   ]
  },
  {
   "cell_type": "markdown",
   "id": "70e929d9",
   "metadata": {},
   "source": [
    "> Note: The 80% Life Time Value(LTV) of churned customers is 750dollars, and their tenure before churn was near 10months.\n",
    "On the other hand, 20% Life Time Value(LTV) of churned customer is 4750dollars, and their tenure before churn was about 50months(ie 4yrs+). it is therefore advisable to focus on retaining the 20% customers having an higher LTV of 4750dollars "
   ]
  },
  {
   "cell_type": "markdown",
   "id": "5605ff40",
   "metadata": {},
   "source": [
    "###  Research Question 2: What subscription were the churned customers active on?"
   ]
  },
  {
   "cell_type": "markdown",
   "id": "b0e8356a",
   "metadata": {},
   "source": [
    "> Note: After discovering the big difference in LTV and tenures between 80/20% of those who unsubscribed, so I decided to investigate this question in both 80/20% groups."
   ]
  },
  {
   "cell_type": "code",
   "execution_count": 24,
   "id": "0eb4e543",
   "metadata": {},
   "outputs": [
    {
     "data": {
      "text/plain": [
       "Index(['customerID', 'gender', 'SeniorCitizen', 'Partner', 'Dependents',\n",
       "       'tenure', 'PhoneService', 'MultipleLines', 'InternetService',\n",
       "       'OnlineSecurity', 'OnlineBackup', 'DeviceProtection', 'TechSupport',\n",
       "       'StreamingTV', 'StreamingMovies', 'Contract', 'PaperlessBilling',\n",
       "       'PaymentMethod', 'MonthlyCharges', 'TotalCharges', 'Churn'],\n",
       "      dtype='object')"
      ]
     },
     "execution_count": 24,
     "metadata": {},
     "output_type": "execute_result"
    }
   ],
   "source": [
    "telecom_data.columns"
   ]
  },
  {
   "cell_type": "code",
   "execution_count": 25,
   "id": "38b97684",
   "metadata": {},
   "outputs": [
    {
     "data": {
      "text/plain": [
       "Fiber optic    3096\n",
       "DSL            2416\n",
       "No             1520\n",
       "Name: InternetService, dtype: int64"
      ]
     },
     "execution_count": 25,
     "metadata": {},
     "output_type": "execute_result"
    }
   ],
   "source": [
    "telecom_data.InternetService.value_counts()"
   ]
  },
  {
   "cell_type": "code",
   "execution_count": 26,
   "id": "82cfa89e",
   "metadata": {},
   "outputs": [],
   "source": [
    "'''Query function to deduce the number of the customers having 80% low(LTV) \n",
    "using an Internet service or other related internet services'''\n",
    "\n",
    "TotalCharges_below80p_use_internet = TotalCharges_below80p.query('InternetService != \"No\"')"
   ]
  },
  {
   "cell_type": "code",
   "execution_count": 27,
   "id": "36a42ea7",
   "metadata": {},
   "outputs": [
    {
     "data": {
      "text/plain": [
       "38.205499276411"
      ]
     },
     "execution_count": 27,
     "metadata": {},
     "output_type": "execute_result"
    }
   ],
   "source": [
    "#Percentage rate of 80% Low(LTV) customers using internet services for online security\n",
    "TotalCharges_below80p_use_internet.query(\"OnlineSecurity=='Yes'\").shape[0]/TotalCharges_below80p_use_internet.shape[0] *100\n",
    "#Percentage rate of 80% Low(LTV) customers using internet services for online backup\n",
    "TotalCharges_below80p_use_internet.query(\"OnlineBackup=='Yes'\").shape[0]/TotalCharges_below80p_use_internet.shape[0]*100\n",
    "#Percentage rate of 80% Low(LTV) customers using internet services for deviceprotection\n",
    "TotalCharges_below80p_use_internet.query(\"DeviceProtection=='Yes'\").shape[0]/TotalCharges_below80p_use_internet.shape[0]*100\n",
    "#Percentage rate of 80% Low(LTV) customers using internet services for tech support\n",
    "TotalCharges_below80p_use_internet.query(\"TechSupport=='Yes'\").shape[0]/TotalCharges_below80p_use_internet.shape[0]*100\n",
    "#Percentage rate of 80% Low(LTV) customers using internet services for streamingtv\n",
    "TotalCharges_below80p_use_internet.query(\"StreamingTV =='Yes'\").shape[0]/TotalCharges_below80p_use_internet.shape[0]*100\n",
    "#Percentage rate of 80% Low(LTV) customers using internet services for streamingmovies\n",
    "TotalCharges_below80p_use_internet.query(\"StreamingMovies == 'Yes'\").shape[0]/TotalCharges_below80p_use_internet.shape[0]*100"
   ]
  },
  {
   "cell_type": "code",
   "execution_count": 28,
   "id": "590c778e",
   "metadata": {},
   "outputs": [],
   "source": [
    "'''a query function to deduce the number of the customers having high 20%(LTV) \n",
    "using an Internet service or other related internet services'''\n",
    "TotalCharges_above80p_use_internet_service =TotalCharges_above80p.query(\"InternetService !='No'\")"
   ]
  },
  {
   "cell_type": "code",
   "execution_count": 29,
   "id": "e5e3fa4b",
   "metadata": {},
   "outputs": [
    {
     "data": {
      "text/plain": [
       "77.54010695187165"
      ]
     },
     "execution_count": 29,
     "metadata": {},
     "output_type": "execute_result"
    }
   ],
   "source": [
    "#Percentage rate of 20% Low(LTV) customers using internet services for Online security\n",
    "TotalCharges_above80p_use_internet_service.query(\"OnlineSecurity=='Yes'\").shape[0]/TotalCharges_above80p_use_internet_service.shape[0]*100\n",
    "#Percentage rate of 20% Low(LTV) customers using internet services for Online backup\n",
    "TotalCharges_above80p_use_internet_service.query(\"OnlineBackup=='Yes'\").shape[0]/TotalCharges_above80p_use_internet_service.shape[0]*100\n",
    "#Percentage rate of 20% Low(LTV) customers using internet services for device protection\n",
    "TotalCharges_above80p_use_internet_service.query(\"DeviceProtection=='Yes'\").shape[0]/TotalCharges_above80p_use_internet_service.shape[0]*100\n",
    "#Percentage rate of 20% Low(LTV) customers using internet services for tech support\n",
    "TotalCharges_above80p_use_internet_service.query(\"TechSupport=='Yes'\").shape[0]/TotalCharges_above80p_use_internet_service.shape[0]*100\n",
    "#Percentage rate of 20% Low(LTV) customers using internet services for streamingtv\n",
    "TotalCharges_above80p_use_internet_service.query(\"StreamingTV=='Yes'\").shape[0]/TotalCharges_above80p_use_internet_service.shape[0]*100\n",
    "#Percentage rate of 20% Low(LTV) customers using internet services for streaming movies\n",
    "TotalCharges_above80p_use_internet_service.query(\"StreamingMovies=='Yes'\").shape[0]/TotalCharges_above80p_use_internet_service.shape[0]*100"
   ]
  },
  {
   "cell_type": "code",
   "execution_count": 30,
   "id": "3fe9a322",
   "metadata": {},
   "outputs": [
    {
     "data": {
      "text/plain": [
       "Yes    1334\n",
       "No      161\n",
       "Name: PhoneService, dtype: int64"
      ]
     },
     "execution_count": 30,
     "metadata": {},
     "output_type": "execute_result"
    }
   ],
   "source": [
    "TotalCharges_below80p.PhoneService.value_counts()"
   ]
  },
  {
   "cell_type": "code",
   "execution_count": 31,
   "id": "d4cbbe38",
   "metadata": {},
   "outputs": [
    {
     "data": {
      "image/png": "[encoded data removed]",
      "text/plain": [
       "<Figure size 720x360 with 2 Axes>"
      ]
     },
     "metadata": {
      "needs_background": "light"
     },
     "output_type": "display_data"
    }
   ],
   "source": [
    "plt.figure(figsize=(10, 5))\n",
    "plt.subplot(2, 1, 1)\n",
    "((TotalCharges_below80p.PhoneService.value_counts()/TotalCharges_below80p.shape[0])*100).plot.barh()\n",
    "plot(title=\"Proportion of customers having 80%low(LTV) using phone services\", xlabel=\"Percentage of customers\", xticks1=range(0, 110, 10), xticks2=range(0, 110, 10))\n",
    "#\n",
    "plt.subplot(2, 1, 2)\n",
    "((TotalCharges_above80p.PhoneService.value_counts()/TotalCharges_above80p.shape[0]*100)).plot.barh()\n",
    "plot(title=\"proportion of customers having 20%(high LTV) using phone services\", xlabel='Percentage of customers', xticks1 = range(0, 110, 10), xticks2=range(0, 110, 10))\n",
    "plt.tight_layout()\n",
    "# details = np.array(TotalCharges_above80p.PhoneService.value_counts()/TotalCharges_above80p.shape[0] * 100)\n",
    "# details\n",
    "# second_details = np.array(TotalCharges_below80p.PhoneService.value_counts()/TotalCharges_below80p.shape[0]*100)\n",
    "# second_details"
   ]
  },
  {
   "cell_type": "markdown",
   "id": "6536563e",
   "metadata": {},
   "source": [
    "> Note: visualization 1 illustrates that the proportion of customers having 80%low(LTV) using phone services are about 89.2% and those not using phone services under the 80%low(LTV) category are about 10.7%\n",
    "Visualization 2 illustrates that the proportion of customers having 20%(high LTV) using phone services are about 97.5% and those not using phone services under this category are about 2.4% which is about 5times lesser than those under the 80%low(LTV) category"
   ]
  },
  {
   "cell_type": "code",
   "execution_count": 32,
   "id": "d5c471fa",
   "metadata": {
    "scrolled": true
   },
   "outputs": [
    {
     "data": {
      "image/png": "[encoded data removed]",
      "text/plain": [
       "<Figure size 720x360 with 2 Axes>"
      ]
     },
     "metadata": {
      "needs_background": "light"
     },
     "output_type": "display_data"
    }
   ],
   "source": [
    "#diagrammatic illustration for those using Multiple lines\n",
    "plt.figure(figsize=(10, 5))\n",
    "plt.subplot(2, 1, 1)\n",
    "telecom_data_under80_use_phone = TotalCharges_below80p.query(\"PhoneService == 'Yes'\")\n",
    "(telecom_data_under80_use_phone.MultipleLines.value_counts()/telecom_data_under80_use_phone.shape[0] *100).plot.barh()\n",
    "plot(title=\"proportion of customers having 80%(low LTV) using Multi-line phone services\", xlabel=\"Percentage of customers\", xticks1 = range(0, 110, 10), xticks2=range(0, 110, 10))\n",
    "\n",
    "plt.subplot(2, 1, 2)\n",
    "telecom_data_above80_use_phone = TotalCharges_above80p.query(\"PhoneService == 'Yes'\")\n",
    "(telecom_data_above80_use_phone.MultipleLines.value_counts()/telecom_data_above80_use_phone.shape[0] *100).plot.barh()\n",
    "plot(title=\"proportion of customers having 20%(high LTV) using Multi-line phone services\", xlabel=\"Percentage of customers\", xticks1= range(0, 110, 10), xticks2=range(0, 110, 10))\n",
    "plt.tight_layout()\n"
   ]
  },
  {
   "cell_type": "markdown",
   "id": "d0fb118d",
   "metadata": {},
   "source": [
    ">Note: visualization 1 illustrates that the proportion of customers having 80%low(LTV) using Muliple lines is about 41% and customers not using Muliple lines under the 80%low(LTV) category are about 59%\n",
    "Visualization 2 illustrates that the proportion of customers having 20%(high LTV) using Muliple lines is about 83% and customers not using Muliple lines under this category are about 16.7% "
   ]
  },
  {
   "cell_type": "code",
   "execution_count": 33,
   "id": "b3eefc35",
   "metadata": {
    "scrolled": true
   },
   "outputs": [
    {
     "data": {
      "image/png": "[encoded data removed]",
      "text/plain": [
       "<Figure size 720x360 with 2 Axes>"
      ]
     },
     "metadata": {
      "needs_background": "light"
     },
     "output_type": "display_data"
    }
   ],
   "source": [
    "#internetservice\n",
    "plt.figure(figsize=(10, 5))\n",
    "plt.subplot(2, 1, 1)\n",
    "#for 80%low(LTV)\n",
    "(TotalCharges_below80p.InternetService.value_counts()/TotalCharges_below80p.shape[0]*100).plot.barh()\n",
    "plot(title=\"Proportion of customers using internet services having the 80%low(LTV)\", xlabel=\"percentage %\", xticks1=range(0, 110, 10), xticks2=range(0, 110, 10))\n",
    "\n",
    "plt.subplot(2, 1, 2)\n",
    "# for 20%low(LTV)\n",
    "(TotalCharges_above80p.InternetService.value_counts()/TotalCharges_above80p.shape[0]*100).plot.barh()\n",
    "plot(title=\"Proportion of customers using internet services having the 20%high(LTV)\", xlabel=\"Percentage %\", xticks1=range(0, 110, 10), xticks2=range(0, 110, 10))\n",
    "\n",
    "plt.tight_layout()"
   ]
  },
  {
   "cell_type": "markdown",
   "id": "89fef833",
   "metadata": {},
   "source": [
    "> Note:"
   ]
  },
  {
   "cell_type": "markdown",
   "id": "d9f479fc",
   "metadata": {},
   "source": [
    "### Reserach Question 3: What is the average Life Time Value(LTV) for the active customers?"
   ]
  },
  {
   "cell_type": "code",
   "execution_count": 34,
   "id": "e1bc7857",
   "metadata": {},
   "outputs": [],
   "source": [
    "active_customers = telecom_data.query(\"Churn == 'No'\")"
   ]
  },
  {
   "cell_type": "code",
   "execution_count": 35,
   "id": "277792c2",
   "metadata": {},
   "outputs": [
    {
     "data": {
      "text/plain": [
       "count    5163.000000\n",
       "mean     2555.203283\n",
       "std      2327.899069\n",
       "min        18.800000\n",
       "25%       580.400000\n",
       "50%      1691.750000\n",
       "75%      4252.800000\n",
       "max      8550.000000\n",
       "Name: TotalCharges, dtype: float64"
      ]
     },
     "execution_count": 35,
     "metadata": {},
     "output_type": "execute_result"
    }
   ],
   "source": [
    "active_customers.TotalCharges.describe()"
   ]
  },
  {
   "cell_type": "code",
   "execution_count": 36,
   "id": "c2592c9f",
   "metadata": {},
   "outputs": [
    {
     "data": {
      "text/plain": [
       "<AxesSubplot:>"
      ]
     },
     "execution_count": 36,
     "metadata": {},
     "output_type": "execute_result"
    },
    {
     "data": {
      "image/png": "[encoded data removed]",
      "text/plain": [
       "<Figure size 432x288 with 1 Axes>"
      ]
     },
     "metadata": {
      "needs_background": "light"
     },
     "output_type": "display_data"
    }
   ],
   "source": [
    "active_customers.TotalCharges.hist()"
   ]
  },
  {
   "cell_type": "code",
   "execution_count": 37,
   "id": "71326aaf",
   "metadata": {},
   "outputs": [
    {
     "data": {
      "text/plain": [
       "4897.920000000003"
      ]
     },
     "execution_count": 37,
     "metadata": {},
     "output_type": "execute_result"
    }
   ],
   "source": [
    "#80% percentile of the not churned customers\n",
    "active_customer_pp = active_customers.TotalCharges.quantile(0.8)\n",
    "active_customer_pp"
   ]
  },
  {
   "cell_type": "code",
   "execution_count": 38,
   "id": "dd6ddd32",
   "metadata": {},
   "outputs": [],
   "source": [
    "active_customer_below80p = active_customers.query(\"TotalCharges <= 4897.92\")\n",
    "active_customer_above80p = active_customers.query(\"TotalCharges >= 4897.92\")"
   ]
  },
  {
   "cell_type": "code",
   "execution_count": 39,
   "id": "b5052b4c",
   "metadata": {},
   "outputs": [
    {
     "data": {
      "text/plain": [
       "count    4130.000000\n",
       "mean     1595.406453\n",
       "std      1389.868832\n",
       "min        18.800000\n",
       "25%       422.025000\n",
       "50%      1205.500000\n",
       "75%      2516.812500\n",
       "max      4894.050000\n",
       "Name: TotalCharges, dtype: float64"
      ]
     },
     "execution_count": 39,
     "metadata": {},
     "output_type": "execute_result"
    }
   ],
   "source": [
    "active_customer_below80p.TotalCharges.describe()"
   ]
  },
  {
   "cell_type": "code",
   "execution_count": 40,
   "id": "68868c58",
   "metadata": {
    "scrolled": true
   },
   "outputs": [
    {
     "data": {
      "text/plain": [
       "count    1033.000000\n",
       "mean     6392.532333\n",
       "std       975.331418\n",
       "min      4900.500000\n",
       "25%      5595.000000\n",
       "50%      6241.050000\n",
       "75%      7114.200000\n",
       "max      8550.000000\n",
       "Name: TotalCharges, dtype: float64"
      ]
     },
     "execution_count": 40,
     "metadata": {},
     "output_type": "execute_result"
    }
   ],
   "source": [
    "active_customer_above80p.TotalCharges.describe()"
   ]
  },
  {
   "cell_type": "code",
   "execution_count": 41,
   "id": "1c098134",
   "metadata": {
    "scrolled": true
   },
   "outputs": [
    {
     "data": {
      "text/plain": [
       "count    1033.000000\n",
       "mean       65.458858\n",
       "std         6.840408\n",
       "min        43.000000\n",
       "25%        61.000000\n",
       "50%        68.000000\n",
       "75%        71.000000\n",
       "max        72.000000\n",
       "Name: tenure, dtype: float64"
      ]
     },
     "execution_count": 41,
     "metadata": {},
     "output_type": "execute_result"
    }
   ],
   "source": [
    "active_customer_above80p.tenure.describe()"
   ]
  },
  {
   "cell_type": "code",
   "execution_count": 42,
   "id": "acb7a999",
   "metadata": {},
   "outputs": [
    {
     "data": {
      "text/plain": [
       "count    4130.000000\n",
       "mean       30.694431\n",
       "std        21.706425\n",
       "min         1.000000\n",
       "25%        11.000000\n",
       "50%        28.000000\n",
       "75%        48.000000\n",
       "max        72.000000\n",
       "Name: tenure, dtype: float64"
      ]
     },
     "execution_count": 42,
     "metadata": {},
     "output_type": "execute_result"
    }
   ],
   "source": [
    "active_customer_below80p.tenure.describe()"
   ]
  },
  {
   "cell_type": "code",
   "execution_count": 43,
   "id": "6a92f591",
   "metadata": {},
   "outputs": [
    {
     "data": {
      "image/png": "[encoded data removed]",
      "text/plain": [
       "<Figure size 1296x360 with 2 Axes>"
      ]
     },
     "metadata": {
      "needs_background": "light"
     },
     "output_type": "display_data"
    }
   ],
   "source": [
    "plt.figure(figsize=(18, 5))\n",
    "# for the 80/20%(LTV) of the active customers\n",
    "plt.subplot(1, 2, 1)\n",
    "plt.bar([1, 2], [1595.4, 6392.5])\n",
    "plot(yticks1=range(0,7000,500), yticks2=range(0,7000,500), xticks1=[1,2],xticks2=['80%(Low LTV)', '20%(High LTV)'],ylabel='LTV(dollars)',xlabel='Active Customers', title='LTV(Life Time Value) by 80/20% of those who are still paying the service')\n",
    "\n",
    "#tenure of the active customers\n",
    "plt.subplot(1, 2, 2)\n",
    "plt.bar([1, 2], [30.6, 65.4])\n",
    "plot(yticks1=range(0,70,5), yticks2=range(0,70,5), xticks1=[1,2],xticks2=['80%(Low LTV)', '20%(High LTV)'],ylabel='tenure(months)',xlabel='Active Customers', title='Tenure(month) by 80/20% of those who are still paying the service')"
   ]
  },
  {
   "cell_type": "markdown",
   "id": "b44793a6",
   "metadata": {},
   "source": [
    ">Note: From the above visualizations, The following informations were given off : \n",
    "    \n",
    "    \n",
    "    1. 80% low customers have a LTV of 1500dollars and a tenure of 30months \n",
    "    2. 20% High customers have a LTV of 6000dollars and a tenure of about 65months.\n",
    "Therefore, it is advisable to focus on offering better services to those customers under the 20%(High LTV) since they generate more revenue for the organization."
   ]
  },
  {
   "cell_type": "markdown",
   "id": "54aa2052",
   "metadata": {},
   "source": [
    "### Research Question 5: In what proportions are the contract types  engaged in by active and churned customers?\n"
   ]
  },
  {
   "cell_type": "code",
   "execution_count": 44,
   "id": "cf9a9824",
   "metadata": {
    "scrolled": true
   },
   "outputs": [
    {
     "data": {
      "image/png": "[encoded data removed]",
      "text/plain": [
       "<Figure size 864x360 with 2 Axes>"
      ]
     },
     "metadata": {
      "needs_background": "light"
     },
     "output_type": "display_data"
    }
   ],
   "source": [
    "#visualizes the plot for the contract type engaged in by churned customers\n",
    "\n",
    "plt.figure(figsize=(12,5))\n",
    "plt.subplot(2, 1, 1)\n",
    "(churned_customers.Contract.value_counts()/churned_customers.shape[0]*100).plot.barh()\n",
    "plot(title=\"Proportion of each contracts that was engaged in by the churned customers\", xlabel=\"%\", xticks1=range(0, 100, 10), xticks2=range(0, 100,10))\n",
    "\n",
    "#visualizes the plot for the contract type engaged in by active customers\n",
    "plt.subplot(2, 1, 2)\n",
    "(active_customers.Contract.value_counts()/active_customers.shape[0]*100).plot.barh()\n",
    "plot(title=\"Proportion of each contract type engaged in by the active customers\", xlabel=\"%\", xticks1=range(0, 100, 10), xticks2=range(0, 100, 10))\n",
    "plt.tight_layout()"
   ]
  },
  {
   "cell_type": "markdown",
   "id": "cf04c935",
   "metadata": {},
   "source": [
    "> Note:\n",
    "1. In the data of leaked customers, there are 88% used month contract, 9% used one year contract, and 2 % two year contract. \n",
    "2. In the data of current customers, there are 43% using month contract, 25% used one year contract, and 32% two year contract."
   ]
  },
  {
   "cell_type": "markdown",
   "id": "da138178",
   "metadata": {},
   "source": [
    "### Research Question 5: Among the demographics such as the 'gender', 'partners', 'dependents', 'Phone service', 'Internet Service', 'contract' and 'PaymentMethod', what variable affected the long term value the most?"
   ]
  },
  {
   "cell_type": "code",
   "execution_count": 45,
   "id": "3987d2cc",
   "metadata": {},
   "outputs": [],
   "source": [
    "telecom_data[['Female', 'Male']] = pd.get_dummies(telecom_data['gender'])\n",
    "telecom_data[['No', 'Partner_Yes']] = pd.get_dummies(telecom_data['Partner'])\n",
    "telecom_data[['Dependents_No', 'Dependents_Yes']] = pd.get_dummies(telecom_data['Dependents'])\n",
    "telecom_data[['No', 'PhoneService_Yes']] = pd.get_dummies(telecom_data['PhoneService'])\n",
    "telecom_data[['DSL', 'Fiber optic', 'No']] = pd.get_dummies(telecom_data['InternetService'])\n",
    "telecom_data[['Month-to-month', 'One year', 'Two year']] = pd.get_dummies(telecom_data['Contract'])\n",
    "telecom_data[['matBank transfer (autoic)', 'Credit card (automatic)', 'Electronic check', 'Mailed check']] = pd.get_dummies(telecom_data['PaymentMethod'])"
   ]
  },
  {
   "cell_type": "code",
   "execution_count": 55,
   "id": "8235bc26",
   "metadata": {
    "scrolled": true
   },
   "outputs": [
    {
     "data": {
      "text/html": [
       "<table class=\"simpletable\">\n",
       "<caption>OLS Regression Results</caption>\n",
       "<tr>\n",
       "  <th>Dep. Variable:</th>      <td>TotalCharges</td>   <th>  R-squared:         </th> <td>   0.594</td> \n",
       "</tr>\n",
       "<tr>\n",
       "  <th>Model:</th>                   <td>OLS</td>       <th>  Adj. R-squared:    </th> <td>   0.593</td> \n",
       "</tr>\n",
       "<tr>\n",
       "  <th>Method:</th>             <td>Least Squares</td>  <th>  F-statistic:       </th> <td>   933.7</td> \n",
       "</tr>\n",
       "<tr>\n",
       "  <th>Date:</th>             <td>Sun, 12 Mar 2023</td> <th>  Prob (F-statistic):</th>  <td>  0.00</td>  \n",
       "</tr>\n",
       "<tr>\n",
       "  <th>Time:</th>                 <td>14:59:53</td>     <th>  Log-Likelihood:    </th> <td> -61132.</td> \n",
       "</tr>\n",
       "<tr>\n",
       "  <th>No. Observations:</th>      <td>  7032</td>      <th>  AIC:               </th> <td>1.223e+05</td>\n",
       "</tr>\n",
       "<tr>\n",
       "  <th>Df Residuals:</th>          <td>  7020</td>      <th>  BIC:               </th> <td>1.224e+05</td>\n",
       "</tr>\n",
       "<tr>\n",
       "  <th>Df Model:</th>              <td>    11</td>      <th>                     </th>     <td> </td>    \n",
       "</tr>\n",
       "<tr>\n",
       "  <th>Covariance Type:</th>      <td>nonrobust</td>    <th>                     </th>     <td> </td>    \n",
       "</tr>\n",
       "</table>\n",
       "<table class=\"simpletable\">\n",
       "<tr>\n",
       "              <td></td>                 <th>coef</th>     <th>std err</th>      <th>t</th>      <th>P>|t|</th>  <th>[0.025</th>    <th>0.975]</th>  \n",
       "</tr>\n",
       "<tr>\n",
       "  <th>intercept</th>                 <td>-2389.5775</td> <td>   90.708</td> <td>  -26.344</td> <td> 0.000</td> <td>-2567.393</td> <td>-2211.762</td>\n",
       "</tr>\n",
       "<tr>\n",
       "  <th>Male</th>                      <td>   33.4852</td> <td>   34.456</td> <td>    0.972</td> <td> 0.331</td> <td>  -34.058</td> <td>  101.029</td>\n",
       "</tr>\n",
       "<tr>\n",
       "  <th>Partner_Yes</th>               <td>  715.6571</td> <td>   40.230</td> <td>   17.789</td> <td> 0.000</td> <td>  636.795</td> <td>  794.520</td>\n",
       "</tr>\n",
       "<tr>\n",
       "  <th>Dependents_No</th>             <td>  242.7633</td> <td>   43.263</td> <td>    5.611</td> <td> 0.000</td> <td>  157.955</td> <td>  327.571</td>\n",
       "</tr>\n",
       "<tr>\n",
       "  <th>PhoneService_Yes</th>          <td>  657.0162</td> <td>   65.457</td> <td>   10.037</td> <td> 0.000</td> <td>  528.701</td> <td>  785.332</td>\n",
       "</tr>\n",
       "<tr>\n",
       "  <th>DSL</th>                       <td> 2048.6843</td> <td>   52.357</td> <td>   39.129</td> <td> 0.000</td> <td> 1946.048</td> <td> 2151.320</td>\n",
       "</tr>\n",
       "<tr>\n",
       "  <th>Fiber optic</th>               <td> 3415.9033</td> <td>   52.186</td> <td>   65.456</td> <td> 0.000</td> <td> 3313.603</td> <td> 3518.204</td>\n",
       "</tr>\n",
       "<tr>\n",
       "  <th>One year</th>                  <td> 1897.1549</td> <td>   46.477</td> <td>   40.819</td> <td> 0.000</td> <td> 1806.045</td> <td> 1988.264</td>\n",
       "</tr>\n",
       "<tr>\n",
       "  <th>Two year</th>                  <td> 2856.0705</td> <td>   48.389</td> <td>   59.023</td> <td> 0.000</td> <td> 2761.213</td> <td> 2950.928</td>\n",
       "</tr>\n",
       "<tr>\n",
       "  <th>matBank transfer (autoic)</th> <td>  575.6387</td> <td>   54.173</td> <td>   10.626</td> <td> 0.000</td> <td>  469.444</td> <td>  681.833</td>\n",
       "</tr>\n",
       "<tr>\n",
       "  <th>Credit card (automatic)</th>   <td>  568.2210</td> <td>   54.271</td> <td>   10.470</td> <td> 0.000</td> <td>  461.833</td> <td>  674.609</td>\n",
       "</tr>\n",
       "<tr>\n",
       "  <th>Electronic check</th>          <td>   24.6810</td> <td>   52.200</td> <td>    0.473</td> <td> 0.636</td> <td>  -77.647</td> <td>  127.009</td>\n",
       "</tr>\n",
       "</table>\n",
       "<table class=\"simpletable\">\n",
       "<tr>\n",
       "  <th>Omnibus:</th>       <td>180.511</td> <th>  Durbin-Watson:     </th> <td>   2.017</td>\n",
       "</tr>\n",
       "<tr>\n",
       "  <th>Prob(Omnibus):</th> <td> 0.000</td>  <th>  Jarque-Bera (JB):  </th> <td> 180.973</td>\n",
       "</tr>\n",
       "<tr>\n",
       "  <th>Skew:</th>          <td> 0.366</td>  <th>  Prob(JB):          </th> <td>5.04e-40</td>\n",
       "</tr>\n",
       "<tr>\n",
       "  <th>Kurtosis:</th>      <td> 2.712</td>  <th>  Cond. No.          </th> <td>    12.1</td>\n",
       "</tr>\n",
       "</table><br/><br/>Notes:<br/>[1] Standard Errors assume that the covariance matrix of the errors is correctly specified."
      ],
      "text/plain": [
       "<class 'statsmodels.iolib.summary.Summary'>\n",
       "\"\"\"\n",
       "                            OLS Regression Results                            \n",
       "==============================================================================\n",
       "Dep. Variable:           TotalCharges   R-squared:                       0.594\n",
       "Model:                            OLS   Adj. R-squared:                  0.593\n",
       "Method:                 Least Squares   F-statistic:                     933.7\n",
       "Date:                Sun, 12 Mar 2023   Prob (F-statistic):               0.00\n",
       "Time:                        14:59:53   Log-Likelihood:                -61132.\n",
       "No. Observations:                7032   AIC:                         1.223e+05\n",
       "Df Residuals:                    7020   BIC:                         1.224e+05\n",
       "Df Model:                          11                                         \n",
       "Covariance Type:            nonrobust                                         \n",
       "=============================================================================================\n",
       "                                coef    std err          t      P>|t|      [0.025      0.975]\n",
       "---------------------------------------------------------------------------------------------\n",
       "intercept                 -2389.5775     90.708    -26.344      0.000   -2567.393   -2211.762\n",
       "Male                         33.4852     34.456      0.972      0.331     -34.058     101.029\n",
       "Partner_Yes                 715.6571     40.230     17.789      0.000     636.795     794.520\n",
       "Dependents_No               242.7633     43.263      5.611      0.000     157.955     327.571\n",
       "PhoneService_Yes            657.0162     65.457     10.037      0.000     528.701     785.332\n",
       "DSL                        2048.6843     52.357     39.129      0.000    1946.048    2151.320\n",
       "Fiber optic                3415.9033     52.186     65.456      0.000    3313.603    3518.204\n",
       "One year                   1897.1549     46.477     40.819      0.000    1806.045    1988.264\n",
       "Two year                   2856.0705     48.389     59.023      0.000    2761.213    2950.928\n",
       "matBank transfer (autoic)   575.6387     54.173     10.626      0.000     469.444     681.833\n",
       "Credit card (automatic)     568.2210     54.271     10.470      0.000     461.833     674.609\n",
       "Electronic check             24.6810     52.200      0.473      0.636     -77.647     127.009\n",
       "==============================================================================\n",
       "Omnibus:                      180.511   Durbin-Watson:                   2.017\n",
       "Prob(Omnibus):                  0.000   Jarque-Bera (JB):              180.973\n",
       "Skew:                           0.366   Prob(JB):                     5.04e-40\n",
       "Kurtosis:                       2.712   Cond. No.                         12.1\n",
       "==============================================================================\n",
       "\n",
       "Notes:\n",
       "[1] Standard Errors assume that the covariance matrix of the errors is correctly specified.\n",
       "\"\"\""
      ]
     },
     "execution_count": 55,
     "metadata": {},
     "output_type": "execute_result"
    }
   ],
   "source": [
    "telecom_data['intercept'] = 1\n",
    "lm = sm.OLS(telecom_data['TotalCharges'], telecom_data[['intercept', 'Male', 'Partner_Yes', 'Dependents_No',\n",
    "                                               'PhoneService_Yes', 'DSL', 'Fiber optic', 'One year', 'Two year',\n",
    "                                               'matBank transfer (autoic)', 'Credit card (automatic)', \n",
    "                                                'Electronic check']])\n",
    "\n",
    "statistical_analysis = lm.fit()\n",
    "statistical_analysis.summary()"
   ]
  },
  {
   "cell_type": "markdown",
   "id": "31e25c30",
   "metadata": {},
   "source": [
    "> Note:\n",
    "1. 'Electronic check' feature does not have a statistical significance on affecting the LTV since it has a p-value greater than 0.05\n",
    "2. 'gender' does not have statistical significance on affecting the LTV since it has a p-value greater than 0.05.\n",
    "3. 'Partner' have statistical significance on affecting the LTV since it does not have a p-value greater than 0.05, and having a coefficient correlation of 717.\n",
    "4. 'Dependents' have statistical significance on affecting the LTV, whose coefficient correlation is 254.\n",
    "5. 'PhoneService' have statistical significance on affecting the LTV, whose coefficient correlation is 662.\n",
    "6. 'InternetService' have statistical significance on affecting the LTV, for 'DSL', whose coefficient correlation is 2043. And, for 'Fiber optic', whose coefficient correlation is 3412.\n",
    "7. 'Contract' have statistical significance on affecting the LTV, for 'One year', whose coefficient correlation is 1897. And, for 'Two year', whose coefficient correlation is 2840.\n",
    "8. 'PaymentMethod' have statistical significance on affecting the LTV, for 'matBank transfer', whose coefficient correlation is 583. And, for 'Credit card (automatic)', whose coefficient correlation is 579."
   ]
  },
  {
   "cell_type": "code",
   "execution_count": 58,
   "id": "067f918a",
   "metadata": {
    "scrolled": true
   },
   "outputs": [
    {
     "data": {
      "text/plain": [
       "Dependents_No                 242.763288\n",
       "Credit card (automatic)       568.221034\n",
       "matBank transfer (autoic)     575.638713\n",
       "PhoneService_Yes              657.016231\n",
       "Partner_Yes                   715.657052\n",
       "One year                     1897.154916\n",
       "DSL                          2048.684312\n",
       "Two year                     2856.070506\n",
       "Fiber optic                  3415.903343\n",
       "dtype: float64"
      ]
     },
     "execution_count": 58,
     "metadata": {},
     "output_type": "execute_result"
    }
   ],
   "source": [
    "statistical_analysis.params.sort_values()[3:]"
   ]
  },
  {
   "cell_type": "markdown",
   "id": "66c702df",
   "metadata": {},
   "source": [
    "### Research Question 6: What variable among the internet services subsets affect customers LTV the most?"
   ]
  },
  {
   "cell_type": "code",
   "execution_count": 98,
   "id": "8f8bc78d",
   "metadata": {},
   "outputs": [],
   "source": [
    "telecom_data[['No','No internet service', 'OnlineServices']] = pd.get_dummies(telecom_data['OnlineSecurity'])\n",
    "telecom_data[['No','No internet service', 'OnlineBackups']] = pd.get_dummies(telecom_data['OnlineBackup'])\n",
    "telecom_data[['No','No internet service', 'DeviceProtections']] = pd.get_dummies(telecom_data['DeviceProtection'])\n",
    "telecom_data[['No','No internet service', 'TechSupports']] = pd.get_dummies(telecom_data['TechSupport'])\n",
    "telecom_data[['No','No internet service', 'StreamTV']] = pd.get_dummies(telecom_data['StreamingTV'])\n",
    "telecom_data[['No','No internet service', 'StreamMovies']] = pd.get_dummies(telecom_data['StreamingMovies'])\n"
   ]
  },
  {
   "cell_type": "code",
   "execution_count": 103,
   "id": "8e3b42ca",
   "metadata": {
    "scrolled": true
   },
   "outputs": [
    {
     "data": {
      "text/plain": [
       "<bound method Series.sort_values of OnlineServices        972.399723\n",
       "OnlineBackups        1350.100586\n",
       "DeviceProtections    1046.208082\n",
       "TechSupports          669.112222\n",
       "StreamTV             1036.813743\n",
       "StreamMovies         1043.847599\n",
       "dtype: float64>"
      ]
     },
     "execution_count": 103,
     "metadata": {},
     "output_type": "execute_result"
    }
   ],
   "source": [
    "\n",
    "lm = sm.OLS(telecom_data['TotalCharges'], telecom_data[['OnlineServices', 'OnlineBackups', 'DeviceProtections', 'TechSupports', 'StreamTV', 'StreamMovies']])\n",
    "results = lm.fit()\n",
    "results.params.sort_values\n"
   ]
  },
  {
   "cell_type": "code",
   "execution_count": 104,
   "id": "41d20f0d",
   "metadata": {
    "scrolled": true
   },
   "outputs": [
    {
     "data": {
      "image/png": "[encoded data removed]",
      "text/plain": [
       "<Figure size 720x288 with 1 Axes>"
      ]
     },
     "metadata": {
      "needs_background": "light"
     },
     "output_type": "display_data"
    }
   ],
   "source": [
    "plt.figure(figsize=(10, 4))     \n",
    "results.params.sort_values().plot.barh()\n",
    "plot(title=\"Proportion of internet subset services that affect the LTV of customers\")\n",
    "# # telecom_data.columns"
   ]
  },
  {
   "cell_type": "markdown",
   "id": "1db2def1",
   "metadata": {},
   "source": [
    "> Conclusion: From the visualization above, it can been deduced that the service which affects the LTV of customers the most is the OnlineBackup Service.\n",
    "\n",
    "Therefore, it is advisable for the teleco company to work on addressing problems being faced during customers OnlineBackups"
   ]
  }
 ],
 "metadata": {
  "kernelspec": {
   "display_name": "Python 3 (ipykernel)",
   "language": "python",
   "name": "python3"
  },
  "language_info": {
   "codemirror_mode": {
    "name": "ipython",
    "version": 3
   },
   "file_extension": ".py",
   "mimetype": "text/x-python",
   "name": "python",
   "nbconvert_exporter": "python",
   "pygments_lexer": "ipython3",
   "version": "3.9.12"
  }
 },
 "nbformat": 4,
 "nbformat_minor": 5
}
